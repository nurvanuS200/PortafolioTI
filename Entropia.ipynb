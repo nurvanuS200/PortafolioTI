{
  "nbformat": 4,
  "nbformat_minor": 0,
  "metadata": {
    "colab": {
      "provenance": []
    },
    "kernelspec": {
      "name": "python3",
      "display_name": "Python 3"
    },
    "language_info": {
      "name": "python"
    }
  },
  "cells": [
    {
      "cell_type": "markdown",
      "source": [
        "#ENTROPÍA"
      ],
      "metadata": {
        "id": "aUHClNHApTYf"
      }
    },
    {
      "cell_type": "markdown",
      "source": [
        "## Ejemplo del dado"
      ],
      "metadata": {
        "id": "vHequHCFrcK-"
      }
    },
    {
      "cell_type": "code",
      "source": [
        "import math\n",
        "import matplotlib.pyplot as plt"
      ],
      "metadata": {
        "id": "RTvq529KqUnO"
      },
      "execution_count": 1,
      "outputs": []
    },
    {
      "cell_type": "markdown",
      "source": [
        "Fórmula para calcular la entropía de un evento específico:\n",
        "\n",
        "**H(X) = -log2(P(X))**"
      ],
      "metadata": {
        "id": "oiitLcUQpZ-U"
      }
    },
    {
      "cell_type": "markdown",
      "source": [
        " Calculamos la entropía de un evento específico dado su valor de probabilidad, siguiendo el caso del dado. Probabilidad de que al lanzar el dado, caiga un \"4\"."
      ],
      "metadata": {
        "id": "klQlb9bhyxpo"
      }
    },
    {
      "cell_type": "code",
      "source": [
        "# probabilidad de obtener un \"4\" en un dado de seis caras\n",
        "probabilidad_l4 = 1/6\n",
        "entropia_l4 = -math.log2(probabilidad_l4)\n",
        "print(f\"Entropía de obtener un '4' en un dado de seis caras: {entropia_l4:.3f} bits\")"
      ],
      "metadata": {
        "colab": {
          "base_uri": "https://localhost:8080/"
        },
        "id": "ES4t-n2czUAg",
        "outputId": "99f6cc4d-e771-4faf-f648-4d9f0124e8b4"
      },
      "execution_count": 2,
      "outputs": [
        {
          "output_type": "stream",
          "name": "stdout",
          "text": [
            "Entropía de obtener un '4' en un dado de seis caras: 2.585 bits\n"
          ]
        }
      ]
    },
    {
      "cell_type": "markdown",
      "source": [
        "Formula para variables aleatorias o bien para la entroía de la distribución de probabilidad completa:\n",
        "\n",
        " **H(X) = -Σ [P(x) * log2(P(x))]**\n"
      ],
      "metadata": {
        "id": "-lprG2Nopf31"
      }
    },
    {
      "cell_type": "markdown",
      "source": [
        "Si la probabilidad \"i\" es mayor que 0,con la función calculamos la entropía correspondiente a esa probabilidad y lo resta de \"entropia\"."
      ],
      "metadata": {
        "id": "oMFlxKSssHPO"
      }
    },
    {
      "cell_type": "code",
      "source": [
        "def entropia_var_aleatoria(probabilidades):\n",
        "  entropia = 0\n",
        "  for i in probabilidades:\n",
        "      if i > 0:\n",
        "        entropia -= i * math.log2(i)\n",
        "  return entropia"
      ],
      "metadata": {
        "id": "i_lj-jkqqm6-"
      },
      "execution_count": 3,
      "outputs": []
    },
    {
      "cell_type": "code",
      "source": [
        "# distribución de probabilidad de un dado de seis caras\n",
        "probabilidades = [1/6, 1/6, 1/6, 1/6, 1/6, 1/6]\n",
        "\n",
        "entropia_ale = entropia_var_aleatoria(probabilidades)\n",
        "\n",
        "print(f\"Entropía del dado de seis caras: {entropia_ale:.3f} bits\")"
      ],
      "metadata": {
        "colab": {
          "base_uri": "https://localhost:8080/"
        },
        "id": "c6h-mZMVrZnG",
        "outputId": "dc175466-f0d7-4d12-9a55-a6e7a2561990"
      },
      "execution_count": 4,
      "outputs": [
        {
          "output_type": "stream",
          "name": "stdout",
          "text": [
            "Entropía del dado de seis caras: 2.585 bits\n"
          ]
        }
      ]
    },
    {
      "cell_type": "markdown",
      "source": [
        "### Visualización en gráfica"
      ],
      "metadata": {
        "id": "JIB2Q1cFAhX5"
      }
    },
    {
      "cell_type": "code",
      "source": [
        "# Lista de probabilidades para diferentes valores de P(X)\n",
        "probabilidades_porcentaje = [i/100 for i in range(1, 101)]\n",
        "\n",
        "# Calculamos la entropía para cada probabilidad\n",
        "entropias = [-math.log2(p) for p in probabilidades_porcentaje]\n",
        "plt.plot(probabilidades_porcentaje, entropias, marker='o', linestyle='-')\n",
        "plt.xlabel(\"Probabilidad de obtener un '4'\")\n",
        "plt.ylabel(\"Entropía (bits)\")\n",
        "plt.title(\"Entropía de obtener un '4' en un dado de seis caras\")\n",
        "plt.grid(True)\n",
        "plt.show()"
      ],
      "metadata": {
        "colab": {
          "base_uri": "https://localhost:8080/",
          "height": 472
        },
        "id": "ydoYTlYu3eNi",
        "outputId": "f95a022a-906e-4001-e3ba-8e24accc6020"
      },
      "execution_count": 5,
      "outputs": [
        {
          "output_type": "display_data",
          "data": {
            "text/plain": [
              "<Figure size 640x480 with 1 Axes>"
            ],
            "image/png": "[encoded data removed]"
          },
          "metadata": {}
        }
      ]
    }
  ]
}