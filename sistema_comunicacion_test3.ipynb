{
  "nbformat": 4,
  "nbformat_minor": 0,
  "metadata": {
    "colab": {
      "provenance": []
    },
    "kernelspec": {
      "name": "python3",
      "display_name": "Python 3"
    },
    "language_info": {
      "name": "python"
    }
  },
  "cells": [
    {
      "cell_type": "markdown",
      "source": [
        "## JAZMIN VIVIANA SANTOYO VEGA\n",
        "###**Sistema de Comunicación de un Robot Espacial**\n",
        "####**Teoría de la Información **"
      ],
      "metadata": {
        "id": "ZONb_-QMtpJL"
      }
    },
    {
      "cell_type": "code",
      "source": [
        "import random\n",
        "import pickle\n",
        "import math\n",
        "import matplotlib.pyplot as plt\n",
        "from collections import Counter"
      ],
      "metadata": {
        "id": "wMsyJIIk1LqJ"
      },
      "execution_count": 1,
      "outputs": []
    },
    {
      "cell_type": "markdown",
      "source": [
        "###Fuente de Información"
      ],
      "metadata": {
        "id": "mzyKRGZpBP1I"
      }
    },
    {
      "cell_type": "code",
      "source": [
        "# Aquí la fuente de información son los sensores del robot recopilan datos\n",
        "def recopilar_datos():\n",
        "  # Simulacion de algunos atributos que recopila el sensor del robot\n",
        "  objetos = [\"mineral\", \"roca\", \"cristal\", \"hielo\", \"agua\", \"meteorito\", \"objeto no identificado\"]\n",
        "  ubicacion = (random.uniform(-1000, 1000), random.uniform(-1000, 1000), random.uniform(-1000, 1000))\n",
        "  imagenes = [\"imagen1.jpg\", \"imagen2.jpg\"]\n",
        "\n",
        "  objeto = random.choice(objetos)\n",
        "  datos_recopilados = {\n",
        "      \"Se detectó\": objeto,\n",
        "      \"Ubicación\": ubicacion,\n",
        "      \"Imagenes\": imagenes\n",
        "  }\n",
        "  return datos_recopilados"
      ],
      "metadata": {
        "id": "5Af2qSqLtpX5"
      },
      "execution_count": 2,
      "outputs": []
    },
    {
      "cell_type": "markdown",
      "source": [
        "### Transmisor"
      ],
      "metadata": {
        "id": "6sGfRtASBX_K"
      }
    },
    {
      "cell_type": "code",
      "source": [
        "# Con esta función pretendo simular la transmisión de datos\n",
        "# para esto el robot codifica los datos a binario para poder comprenderlos y transmitirlos\n",
        "def transmisor_de_la_nave_espacial(datos_recopilados):\n",
        "    objeto_codificado = ''.join(format(ord(c), '08b') for c in datos_recopilados[\"Se detectó\"])\n",
        "    ubicacion_codificada = ''.join(format(int(val), '016b') for val in datos_recopilados[\"Ubicación\"])\n",
        "    imagenes = datos_recopilados[\"Imagenes\"]\n",
        "    datos_transmitidos = {\n",
        "        \"Se detectó\": objeto_codificado,\n",
        "        \"Ubicación\": ubicacion_codificada,\n",
        "        \"Imagenes\": imagenes\n",
        "    }\n",
        "    return datos_transmitidos"
      ],
      "metadata": {
        "id": "gHJRwlHuN_xh"
      },
      "execution_count": 3,
      "outputs": []
    },
    {
      "cell_type": "markdown",
      "source": [
        "###Canal"
      ],
      "metadata": {
        "id": "VrroMaYGCR_o"
      }
    },
    {
      "cell_type": "code",
      "source": [
        "# Este es el medio por el que viajaran los datos transmitidos\n",
        "# esta función simula el canal, en este caso es por medio de fibra óptica\n",
        "def fibra_optica(datos_transmitidos):\n",
        "    objeto_codificado = datos_transmitidos[\"Se detectó\"]\n",
        "    ubicacion_codificada = datos_transmitidos[\"Ubicación\"]\n",
        "    imagenes_codificada = datos_transmitidos[\"Imagenes\"]\n",
        "    datos_con_ruido = datos_transmitidos.copy()\n",
        "\n",
        "    \"\"\" DETALLES DE LA FIBRA ÓPTICA\"\"\"\n",
        "    # longitud de la fibra en km\n",
        "    longitud_km = 15\n",
        "    # velocidad de la luz en ms\n",
        "    velocidad_ms = 7000\n",
        "    # longitud de la fibra a metros\n",
        "    longitud_m = longitud_km * 1000\n",
        "    # tiempo de propagación en segundos\n",
        "    tiempo = longitud_m / velocidad_ms\n",
        "\n",
        "    \"\"\" ENTROPÍA \"\"\"\n",
        "    # lista de valores random\n",
        "    valores_random = [0,0.01, 0.01, 0.015, 0.02, 0.025, 0.03, 0.08, 0.02, 0.035, 0.04, 0.045, 0.05, 0.01,0.045, 0.055, 0.06, 0.065, 0.07, 0.75, 0.08, 0.085] # 22 eventos\n",
        "    num_random = random.choice(valores_random)\n",
        "\n",
        "    # alguno de los porcentajes de esta lista determina el porcentaje de bits a cambiar\n",
        "    # en caso de que haya salido en num_random\n",
        "    porcentaje_ruido = [0,0.01, 0.015, 0.02, 0.025, 0.03, 0.035, 0.045, 0.05, 0.065, 0.07]  # 11 eventos\n",
        "\n",
        "    # contar aquellos valores que se repiten en porcentaje_ruido\n",
        "    # evento 2: 0.01 se repite 3 veces\n",
        "    contador = Counter(valores_random)\n",
        "\n",
        "    # probabilidades de que cada evento de porcentaje_ruido ocurra en relación con el total de eventos en valores_random\n",
        "    total_eventos = len(valores_random)\n",
        "    probabilidades = [contador[valor] / total_eventos for valor in porcentaje_ruido] # por ejemplo para evento2:  3/22\n",
        "\n",
        "    # Guardo la entropía de cada evento para visualizar después en grafica\n",
        "    entropias = [-p * math.log2(p) if p > 0 else 0 for p in probabilidades]\n",
        "    # entropia total\n",
        "    entropia = -sum(p * math.log2(p) for p in probabilidades if p > 0)\n",
        "\n",
        "    \"\"\" INTRODUCIMOS RUIDO \"\"\"\n",
        "\n",
        "    # determinamos si se debe agregar ruido al objeto\n",
        "    if num_random in porcentaje_ruido:\n",
        "        for i in range(len(objeto_codificado)):\n",
        "            if random.random() < num_random:\n",
        "                datos_con_ruido[\"Se detectó\"] = datos_con_ruido[\"Se detectó\"][:i] + ('1' if objeto_codificado[i] == '0' else '0') + datos_con_ruido[\"Se detectó\"][i+1:]\n",
        "\n",
        "        #  si se debe agregar ruido a la ubicación\n",
        "    if num_random in porcentaje_ruido:\n",
        "        for i in range(len(ubicacion_codificada)):\n",
        "            if random.random() < num_random:\n",
        "                datos_con_ruido[\"Ubicación\"] = datos_con_ruido[\"Ubicación\"][:i] + ('1' if ubicacion_codificada[i] == '0' else '0') + datos_con_ruido[\"Ubicación\"][i+1:]\n",
        "\n",
        "    return datos_con_ruido, tiempo, probabilidades, entropias, entropia, porcentaje_ruido"
      ],
      "metadata": {
        "id": "zxnTJOU5OHN4"
      },
      "execution_count": 4,
      "outputs": []
    },
    {
      "cell_type": "markdown",
      "source": [
        "### Receptor"
      ],
      "metadata": {
        "id": "NJTGa01SOHkv"
      }
    },
    {
      "cell_type": "code",
      "source": [
        "# Esta función simula una parte del sistema de recepcion de la Estación Espacial\n",
        "# que se encargar de recibir los datos del robot espacial y los decodifica para procesarlos\n",
        "# y sea de utilidad a los científicos\n",
        "def receptor(datos_con_ruido):\n",
        "    objeto_codificado_con_ruido = datos_con_ruido[\"Se detectó\"]\n",
        "    ubicacion_codificada_con_ruido = datos_con_ruido[\"Ubicación\"]\n",
        "    imagenes = datos_con_ruido[\"Imagenes\"]\n",
        "    objeto_decodificado = ''.join(chr(int(objeto_codificado_con_ruido[i:i+8], 2)) for i in range(0, len(objeto_codificado_con_ruido), 8))\n",
        "    ubicacion_decodificada = tuple(int(ubicacion_codificada_con_ruido[i:i+16], 2) for i in range(0, len(ubicacion_codificada_con_ruido), 16))\n",
        "\n",
        "    datos_decodificados = {\n",
        "        \"Se detectó\": objeto_decodificado,\n",
        "        \"Ubicación\": ubicacion_decodificada,\n",
        "        \"Imagenes\": imagenes\n",
        "    }\n",
        "    return datos_decodificados"
      ],
      "metadata": {
        "id": "9rBxsIs7oQzU"
      },
      "execution_count": 5,
      "outputs": []
    },
    {
      "cell_type": "markdown",
      "source": [
        "### Destino de Información"
      ],
      "metadata": {
        "id": "uKw-pvq5OKsK"
      }
    },
    {
      "cell_type": "markdown",
      "source": [
        "#### Simulamos que la información ha llegado a la Estación Espacial"
      ],
      "metadata": {
        "id": "WbPOB94Kd-Xk"
      }
    },
    {
      "cell_type": "code",
      "source": [
        "# Finalmente la información ha llegado a los científicos de la Estación Espacial\n",
        "print(\"===== Datos Recibidos en la Estación Espacial =====\")\n",
        "print(\"===== Perseverance 2.1 ha capturado los siguientes datos ===== \\n\")\n",
        "# Guardamos las funciones en variables\n",
        "info_original = recopilar_datos()\n",
        "info_transmitida = transmisor_de_la_nave_espacial(info_original)\n",
        "info_canal, tiempo_propagacion, probabilidades,entropias, entropia, porcentaje_ruido = fibra_optica(info_transmitida)\n",
        "info_receptada = receptor(info_canal)\n",
        "print(info_receptada)\n",
        "info_canal, tiempo_propagacion, probabilidades,entropias, entropia, porcentaje_ruido= fibra_optica(info_transmitida)\n",
        "print(f\"\\nEl tiempo de propagación fue de: {tiempo_propagacion} segundos\\n\")"
      ],
      "metadata": {
        "colab": {
          "base_uri": "https://localhost:8080/"
        },
        "id": "pg1S2xC2soK9",
        "outputId": "4a3d6404-1ef1-40d4-9177-02ab6b1b3a34"
      },
      "execution_count": 6,
      "outputs": [
        {
          "output_type": "stream",
          "name": "stdout",
          "text": [
            "===== Datos Recibidos en la Estación Espacial =====\n",
            "===== Perseverance 2.1 ha capturado los siguientes datos ===== \n",
            "\n",
            "{'Se detectó': 'còisdal', 'Ubicación': (-558, -15, 323), 'Imagenes': ['imagen1.jpg', 'imagen2.jpg']}\n",
            "\n",
            "El tiempo de propagación fue de: 2.142857142857143 segundos\n",
            "\n"
          ]
        }
      ]
    },
    {
      "cell_type": "markdown",
      "source": [
        "### Probabilidades"
      ],
      "metadata": {
        "id": "6CBRlMjDJ4Ii"
      }
    },
    {
      "cell_type": "code",
      "source": [
        "print(\"Probabilidades de que cada evento de porcentaje_ruido ocurra en relación con el total de eventos en valores_random:\\n\")\n",
        "for i, probabilidad in enumerate(probabilidades, 1):\n",
        "  print(f\"Evento {i}: {probabilidad}\")"
      ],
      "metadata": {
        "colab": {
          "base_uri": "https://localhost:8080/"
        },
        "id": "-n1GuXRwKAe7",
        "outputId": "c1398ffd-8955-4e67-dbba-160f6e0dfa8e"
      },
      "execution_count": 7,
      "outputs": [
        {
          "output_type": "stream",
          "name": "stdout",
          "text": [
            "Probabilidades de que cada evento de porcentaje_ruido ocurra en relación con el total de eventos en valores_random:\n",
            "\n",
            "Evento 1: 0.045454545454545456\n",
            "Evento 2: 0.13636363636363635\n",
            "Evento 3: 0.045454545454545456\n",
            "Evento 4: 0.09090909090909091\n",
            "Evento 5: 0.045454545454545456\n",
            "Evento 6: 0.045454545454545456\n",
            "Evento 7: 0.045454545454545456\n",
            "Evento 8: 0.09090909090909091\n",
            "Evento 9: 0.045454545454545456\n",
            "Evento 10: 0.045454545454545456\n",
            "Evento 11: 0.045454545454545456\n"
          ]
        }
      ]
    },
    {
      "cell_type": "markdown",
      "source": [
        "### Entropía"
      ],
      "metadata": {
        "id": "ePVAVQx8J7zq"
      }
    },
    {
      "cell_type": "code",
      "source": [
        "print(\"\\nEntropía de cada evento:\")\n",
        "for i, entro in enumerate(entropias, 1):\n",
        "    print(f\"Evento {i}: {entro} bits\")"
      ],
      "metadata": {
        "colab": {
          "base_uri": "https://localhost:8080/"
        },
        "id": "RFeHwxc5KFEO",
        "outputId": "64176d97-9737-46fe-ddc1-7040b60ca621"
      },
      "execution_count": 8,
      "outputs": [
        {
          "output_type": "stream",
          "name": "stdout",
          "text": [
            "\n",
            "Entropía de cada evento:\n",
            "Evento 1: 0.20270143721078623 bits\n",
            "Evento 2: 0.39197306153401923 bits\n",
            "Evento 3: 0.20270143721078623 bits\n",
            "Evento 4: 0.3144937835124816 bits\n",
            "Evento 5: 0.20270143721078623 bits\n",
            "Evento 6: 0.20270143721078623 bits\n",
            "Evento 7: 0.20270143721078623 bits\n",
            "Evento 8: 0.3144937835124816 bits\n",
            "Evento 9: 0.20270143721078623 bits\n",
            "Evento 10: 0.20270143721078623 bits\n",
            "Evento 11: 0.20270143721078623 bits\n"
          ]
        }
      ]
    },
    {
      "cell_type": "code",
      "source": [
        "print(f\"Entropía Total: {entropia:.3f} bits\\n\")"
      ],
      "metadata": {
        "colab": {
          "base_uri": "https://localhost:8080/"
        },
        "id": "Oy4-5VEvLPE4",
        "outputId": "4400a16a-01dd-4a11-8f01-c6f47fdf2436"
      },
      "execution_count": 9,
      "outputs": [
        {
          "output_type": "stream",
          "name": "stdout",
          "text": [
            "Entropía Total: 2.643 bits\n",
            "\n"
          ]
        }
      ]
    },
    {
      "cell_type": "code",
      "source": [
        "# Visualizamos la entropía de cada evento\n",
        "plt.plot(porcentaje_ruido, entropias, marker='o', linestyle='-')\n",
        "plt.xlabel(\"Probabilidad\")\n",
        "plt.ylabel(\"Entropía (bits)\")\n",
        "plt.title(\"Entropía en función de la Probabilidad\")\n",
        "plt.grid(True)\n",
        "plt.show()"
      ],
      "metadata": {
        "colab": {
          "base_uri": "https://localhost:8080/",
          "height": 472
        },
        "id": "0u01W64WK7-L",
        "outputId": "ea4c062d-8cef-4ac6-871e-b6c5e7cad21e"
      },
      "execution_count": 10,
      "outputs": [
        {
          "output_type": "display_data",
          "data": {
            "text/plain": [
              "<Figure size 640x480 with 1 Axes>"
            ],
            "image/png": "[encoded data removed]"
          },
          "metadata": {}
        }
      ]
    },
    {
      "cell_type": "markdown",
      "source": [
        "### Comparación de la información"
      ],
      "metadata": {
        "id": "XgLUSPelOGgI"
      }
    },
    {
      "cell_type": "code",
      "source": [
        "print(\"Datos originales:\")\n",
        "print(info_original)\n",
        "print()\n",
        "\n",
        "print(\"Datos transmitidos:\")\n",
        "print(info_transmitida)\n",
        "print()\n",
        "\n",
        "print(\"Datos con ruido:\")\n",
        "print(info_canal)\n",
        "print()\n",
        "\n",
        "print(\"Datos receptados :\")\n",
        "print(info_receptada)"
      ],
      "metadata": {
        "colab": {
          "base_uri": "https://localhost:8080/"
        },
        "id": "PNaDDVYqqXsF",
        "outputId": "4a5d5185-8d17-4a2d-dfff-70056280098c"
      },
      "execution_count": 11,
      "outputs": [
        {
          "output_type": "stream",
          "name": "stdout",
          "text": [
            "Datos originales:\n",
            "{'Se detectó': 'cristal', 'Ubicación': (-558.4699232863638, -15.60029622912441, -323.44742808378396), 'Imagenes': ['imagen1.jpg', 'imagen2.jpg']}\n",
            "\n",
            "Datos transmitidos:\n",
            "{'Se detectó': '01100011011100100110100101110011011101000110000101101100', 'Ubicación': '-000001000101110-000000000001111-000000101000011', 'Imagenes': ['imagen1.jpg', 'imagen2.jpg']}\n",
            "\n",
            "Datos con ruido:\n",
            "{'Se detectó': '01100011011100100010100101110011011101000110000001101110', 'Ubicación': '0000101000101010-000000000000111-000000101000011', 'Imagenes': ['imagen1.jpg', 'imagen2.jpg']}\n",
            "\n",
            "Datos receptados :\n",
            "{'Se detectó': 'còisdal', 'Ubicación': (-558, -15, 323), 'Imagenes': ['imagen1.jpg', 'imagen2.jpg']}\n"
          ]
        }
      ]
    }
  ]
}