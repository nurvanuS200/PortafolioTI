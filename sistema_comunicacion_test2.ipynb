{
  "nbformat": 4,
  "nbformat_minor": 0,
  "metadata": {
    "colab": {
      "provenance": []
    },
    "kernelspec": {
      "name": "python3",
      "display_name": "Python 3"
    },
    "language_info": {
      "name": "python"
    }
  },
  "cells": [
    {
      "cell_type": "markdown",
      "source": [
        "## JAZMIN VIVIANA SANTOYO VEGA\n",
        "###**Sistema de Comunicación de un Robot Espacial**\n",
        "####**Teoría de la Información **"
      ],
      "metadata": {
        "id": "ZONb_-QMtpJL"
      }
    },
    {
      "cell_type": "code",
      "source": [
        "import random\n",
        "import pickle"
      ],
      "metadata": {
        "id": "wMsyJIIk1LqJ"
      },
      "execution_count": 43,
      "outputs": []
    },
    {
      "cell_type": "markdown",
      "source": [
        "###Fuente de Información"
      ],
      "metadata": {
        "id": "mzyKRGZpBP1I"
      }
    },
    {
      "cell_type": "code",
      "source": [
        "# Aquí la fuente de información son los sensores del robot recopilan datos\n",
        "def recopilar_datos():\n",
        "  # Simulacion de algunos atributos que recopila el sensor del robot\n",
        "  objetos = [\"mineral\", \"roca\", \"cristal\", \"hielo\", \"agua\", \"meteorito\", \"objeto no identificado\"]\n",
        "  ubicacion = (random.uniform(-1000, 1000), random.uniform(-1000, 1000), random.uniform(-1000, 1000))\n",
        "  imagenes = [\"imagen1.jpg\", \"imagen2.jpg\"]\n",
        "\n",
        "  objeto = random.choice(objetos)\n",
        "  datos_recopilados = {\n",
        "      \"Se detectó\": objeto,\n",
        "      \"Ubicación\": ubicacion,\n",
        "      \"Imagenes\": imagenes\n",
        "  }\n",
        "  return datos_recopilados"
      ],
      "metadata": {
        "id": "5Af2qSqLtpX5"
      },
      "execution_count": 44,
      "outputs": []
    },
    {
      "cell_type": "markdown",
      "source": [
        "### Transmisor"
      ],
      "metadata": {
        "id": "6sGfRtASBX_K"
      }
    },
    {
      "cell_type": "code",
      "source": [
        "# Con esta función pretendo simular la transmisión de datos\n",
        "# para esto el robot codifica los datos a binario para poder comprenderlos y transmitirlos\n",
        "def transmisor_de_la_nave_espacial(datos_recopilados):\n",
        "    objeto_codificado = ''.join(format(ord(c), '08b') for c in datos_recopilados[\"Se detectó\"])\n",
        "    ubicacion_codificada = ''.join(format(int(val), '016b') for val in datos_recopilados[\"Ubicación\"])\n",
        "    imagenes = datos_recopilados[\"Imagenes\"]\n",
        "    datos_transmitidos = {\n",
        "        \"Se detectó\": objeto_codificado,\n",
        "        \"Ubicación\": ubicacion_codificada,\n",
        "        \"Imagenes\": imagenes\n",
        "    }\n",
        "    return datos_transmitidos"
      ],
      "metadata": {
        "id": "gHJRwlHuN_xh"
      },
      "execution_count": 45,
      "outputs": []
    },
    {
      "cell_type": "markdown",
      "source": [
        "###Canal"
      ],
      "metadata": {
        "id": "VrroMaYGCR_o"
      }
    },
    {
      "cell_type": "code",
      "source": [
        "# Este es el medio por el que viajaran los datos transmitidos\n",
        "# esta función simula el canal, en este caso es por medio de fibra óptica\n",
        "def fibra_optica(datos_transmitidos):\n",
        "    objeto_codificado = datos_transmitidos[\"Se detectó\"]\n",
        "    ubicacion_codificada = datos_transmitidos[\"Ubicación\"]\n",
        "    imagenes_codificada = datos_transmitidos[\"Imagenes\"]\n",
        "    datos_con_ruido = datos_transmitidos.copy()\n",
        "    # Longitud de la fibra en km\n",
        "    longitud_km = 15\n",
        "    # Velocidad de la luz en ms\n",
        "    velocidad_ms = 7000\n",
        "    # Longitud de la fibra a metros\n",
        "    longitud_m = longitud_km * 1000\n",
        "    # El tiempo de propagación en segundos\n",
        "    tiempo = longitud_m / velocidad_ms\n",
        "    # determino el porcentaje de bits a cambiar en el objeto\n",
        "    porcentaje_ruido_objeto = 0.01\n",
        "    for i in range(len(objeto_codificado)):\n",
        "        if random.random() < porcentaje_ruido_objeto:\n",
        "            datos_con_ruido[\"Se detectó\"] = datos_con_ruido[\"Se detectó\"][:i] + ('1' if objeto_codificado[i] == '0' else '0') + datos_con_ruido[\"Se detectó\"][i+1:]\n",
        "    # determino el porcentaje de bits a cambiar en ubicación\n",
        "    porcentaje_ruido_ubicacion = 0.05\n",
        "    for i in range(len(ubicacion_codificada)):\n",
        "        if random.random() < porcentaje_ruido_ubicacion:\n",
        "            datos_con_ruido[\"Ubicación\"] = datos_con_ruido[\"Ubicación\"][:i] + ('1' if ubicacion_codificada[i] == '0' else '0') + datos_con_ruido[\"Ubicación\"][i+1:]\n",
        "\n",
        "    return datos_con_ruido, tiempo"
      ],
      "metadata": {
        "id": "zxnTJOU5OHN4"
      },
      "execution_count": 46,
      "outputs": []
    },
    {
      "cell_type": "markdown",
      "source": [
        "### Receptor"
      ],
      "metadata": {
        "id": "NJTGa01SOHkv"
      }
    },
    {
      "cell_type": "code",
      "source": [
        "# Esta función simula una parte del sistema de recepcion de la Estación Espacial\n",
        "# que se encargar de recibir los datos del robot espacial y los decodifica para procesarlos\n",
        "# y sea de utilidad a los científicos\n",
        "def receptor(datos_con_ruido):\n",
        "    objeto_codificado_con_ruido = datos_con_ruido[\"Se detectó\"]\n",
        "    ubicacion_codificada_con_ruido = datos_con_ruido[\"Ubicación\"]\n",
        "    imagenes = datos_con_ruido[\"Imagenes\"]\n",
        "    objeto_decodificado = ''.join(chr(int(objeto_codificado_con_ruido[i:i+8], 2)) for i in range(0, len(objeto_codificado_con_ruido), 8))\n",
        "    ubicacion_decodificada = tuple(int(ubicacion_codificada_con_ruido[i:i+16], 2) for i in range(0, len(ubicacion_codificada_con_ruido), 16))\n",
        "\n",
        "    datos_decodificados = {\n",
        "        \"Se detectó\": objeto_decodificado,\n",
        "        \"Ubicación\": ubicacion_decodificada,\n",
        "        \"Imagenes\": imagenes\n",
        "    }\n",
        "    return datos_decodificados"
      ],
      "metadata": {
        "id": "9rBxsIs7oQzU"
      },
      "execution_count": 47,
      "outputs": []
    },
    {
      "cell_type": "markdown",
      "source": [
        "### Destino de Información"
      ],
      "metadata": {
        "id": "uKw-pvq5OKsK"
      }
    },
    {
      "cell_type": "code",
      "source": [
        "# Finalmente la información ha llegado a los científicos de la Estación Espacial\n",
        "print(\"===== Datos Recibidos en la Estación Espacial =====\")\n",
        "print(\"===== Perseverance 2.1 ha capturado los siguientes datos =====\")\n",
        "info_original = recopilar_datos()\n",
        "info_transmitida = transmisor_de_la_nave_espacial(info_original)\n",
        "info_canal, tiempo_propagacion = fibra_optica(info_transmitida)\n",
        "info_receptada = receptor(info_canal)\n",
        "print(info_receptada)\n",
        "info_canal, tiempo= fibra_optica(info_transmitida)\n",
        "print(f\"El tiempo de propagación fue de: {tiempo} segundos\")"
      ],
      "metadata": {
        "colab": {
          "base_uri": "https://localhost:8080/"
        },
        "id": "pg1S2xC2soK9",
        "outputId": "1a52e79b-2510-42a4-8782-7c94463cd815"
      },
      "execution_count": 48,
      "outputs": [
        {
          "output_type": "stream",
          "name": "stdout",
          "text": [
            "===== Datos Recibidos en la Estación Espacial =====\n",
            "===== Perseverance 2.1 ha capturado los siguientes datos =====\n",
            "{'Se detectó': 'crastal', 'Ubicación': (170, 1877, 884), 'Imagenes': ['imagen1.jpg', 'imagen2.jpg']}\n",
            "El tiempo de propagación fue de: 2.142857142857143 segundos\n"
          ]
        }
      ]
    },
    {
      "cell_type": "markdown",
      "source": [
        "### Comparación de la información"
      ],
      "metadata": {
        "id": "XgLUSPelOGgI"
      }
    },
    {
      "cell_type": "code",
      "source": [
        "print(\"Datos originales:\")\n",
        "print(info_original)\n",
        "print()\n",
        "\n",
        "print(\"Datos transmitidos:\")\n",
        "print(info_transmitida)\n",
        "print()\n",
        "\n",
        "print(\"Datos con ruido:\")\n",
        "print(info_canal)\n",
        "print()\n",
        "\n",
        "print(\"Datos receptados :\")\n",
        "print(info_receptada)"
      ],
      "metadata": {
        "colab": {
          "base_uri": "https://localhost:8080/"
        },
        "id": "PNaDDVYqqXsF",
        "outputId": "cb69c5ee-e3ce-4934-e90d-23e417727b9f"
      },
      "execution_count": 49,
      "outputs": [
        {
          "output_type": "stream",
          "name": "stdout",
          "text": [
            "Datos originales:\n",
            "{'Se detectó': 'cristal', 'Ubicación': (-162.80575579942933, 853.3632735030728, 894.5207009786011), 'Imagenes': ['imagen1.jpg', 'imagen2.jpg']}\n",
            "\n",
            "Datos transmitidos:\n",
            "{'Se detectó': '01100011011100100110100101110011011101000110000101101100', 'Ubicación': '-00000001010001000000011010101010000001101111110', 'Imagenes': ['imagen1.jpg', 'imagen2.jpg']}\n",
            "\n",
            "Datos con ruido:\n",
            "{'Se detectó': '01100011001100100110100101110011011101000110000101101100', 'Ubicación': '-00001001011001000000011010101010000101101111110', 'Imagenes': ['imagen1.jpg', 'imagen2.jpg']}\n",
            "\n",
            "Datos receptados :\n",
            "{'Se detectó': 'crastal', 'Ubicación': (170, 1877, 884), 'Imagenes': ['imagen1.jpg', 'imagen2.jpg']}\n"
          ]
        }
      ]
    }
  ]
}