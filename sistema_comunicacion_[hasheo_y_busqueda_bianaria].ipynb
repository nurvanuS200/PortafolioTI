{
  "nbformat": 4,
  "nbformat_minor": 0,
  "metadata": {
    "colab": {
      "provenance": []
    },
    "kernelspec": {
      "name": "python3",
      "display_name": "Python 3"
    },
    "language_info": {
      "name": "python"
    }
  },
  "cells": [
    {
      "cell_type": "markdown",
      "source": [
        "## JAZMIN VIVIANA SANTOYO VEGA\n",
        "###**Sistema de Comunicación de un Robot Espacial**\n",
        "####**Teoría de la Información**"
      ],
      "metadata": {
        "id": "OJs8ogDJ711j"
      }
    },
    {
      "cell_type": "markdown",
      "source": [
        "### Librerías"
      ],
      "metadata": {
        "id": "mzyKRGZpBP1I"
      }
    },
    {
      "cell_type": "code",
      "source": [
        "import random\n",
        "import pickle\n",
        "import math\n",
        "import matplotlib.pyplot as plt\n",
        "from collections import Counter\n",
        "import heapq\n",
        "from collections import defaultdict\n",
        "import pandas as pd\n",
        "import struct\n",
        "import hashlib"
      ],
      "metadata": {
        "id": "GSk2HU7Y8RP7"
      },
      "execution_count": 27,
      "outputs": []
    },
    {
      "cell_type": "code",
      "source": [
        "# Aquí la fuente de información son los sensores del robot recopilan datos\n",
        "def recopilar_datos():\n",
        "  # Simulacion de algunos atributos que recopila el sensor del robot\n",
        "  objetos = [\"mineral, roca & meteorito\", \"roca, cristal, agua & hielo\", \"cristal, regolito, agua\", \"hielo, relieves, regolito & meteorito\", \"agua, meterorito & relieves\",\"objeto no identificado\"]\n",
        "  ubicacion = (round(random.uniform(-1000, 1000), 2), round(random.uniform(-1000, 1000), 2), round(random.uniform(-1000, 1000), 2))\n",
        "  imagenes = [\"imagen1.jpg\", \"imagen2.jpg\"]\n",
        "\n",
        "  objeto = random.choice(objetos)\n",
        "  datos_recopilados = {\n",
        "      \"Se detectó\": objeto,\n",
        "      \"Ubicación\": ubicacion,\n",
        "      \"Imagenes\": imagenes\n",
        "  }\n",
        "  return datos_recopilados"
      ],
      "metadata": {
        "id": "u4-Wgj4W8CUz"
      },
      "execution_count": 28,
      "outputs": []
    },
    {
      "cell_type": "markdown",
      "source": [
        "### Calcular frecuencia"
      ],
      "metadata": {
        "id": "2EnnQTr3tivP"
      }
    },
    {
      "cell_type": "code",
      "source": [
        "# recibe una cadena de texto o de numeros para calcular la frecuencia y devolver a la codificación que se desee\n",
        "def obtiene_frecuencia(cadena):\n",
        "    frecuencias = dict(Counter(cadena))\n",
        "    return frecuencias"
      ],
      "metadata": {
        "id": "7bomeufq8NX5"
      },
      "execution_count": 29,
      "outputs": []
    },
    {
      "cell_type": "markdown",
      "source": [
        "###Codificación Tunstall"
      ],
      "metadata": {
        "id": "f8UUktAM9fbt"
      }
    },
    {
      "cell_type": "code",
      "source": [
        "def codificacion_tunstall(cadena):\n",
        "\n",
        "    frecuencias = obtiene_frecuencia(cadena)\n",
        "\n",
        "    # creo una lista de tuplas (símbolo, frecuencia) ordenadas por frecuencia\n",
        "    simbolos_frecuencias = sorted(frecuencias.items(), key=lambda x: x[1], reverse=True)\n",
        "\n",
        "    # diccionario para asignar códigos Tunstall a cada símbolo\n",
        "    codigos_tunstall = {}\n",
        "    num_bits = 0\n",
        "\n",
        "    while len(simbolos_frecuencias) > 2 ** num_bits:\n",
        "        num_bits += 1\n",
        "\n",
        "    for i, (simbolo, _) in enumerate(simbolos_frecuencias):\n",
        "        codigo = format(i, f'0{num_bits}b')\n",
        "        codigos_tunstall[simbolo] = codigo\n",
        "\n",
        "    # la cadena de entrada utilizando los códigos Tunstall\n",
        "    cadena_codificada_t = \" \".join([codigos_tunstall[s] for s in cadena])\n",
        "\n",
        "    return cadena_codificada_t, codigos_tunstall"
      ],
      "metadata": {
        "id": "C9iBVzyJ8acM"
      },
      "execution_count": 30,
      "outputs": []
    },
    {
      "cell_type": "markdown",
      "source": [
        "### Función que hashea los paquetes"
      ],
      "metadata": {
        "id": "Xi80W2oM9gWF"
      }
    },
    {
      "cell_type": "code",
      "source": [
        "def hashear_paquetes(cadena_codificada_t):\n",
        "    \"\"\"Genera un hash para cada grupo de cuatro bits separados por un espacio.\"\"\"\n",
        "    # elimino espacios y divido la cadena en grupos de cuatro bits\n",
        "    grupos_cuatro_bits = cadena_codificada_t.replace(\" \", \"\")\n",
        "    grupos_cuatro_bits = [grupos_cuatro_bits[i:i+4] for i in range(0, len(grupos_cuatro_bits), 4)]\n",
        "    # genero el hash para cada grupo de cuatro bits y almaceno en una lista\n",
        "    paquete_hashes = []\n",
        "\n",
        "    for grupo in grupos_cuatro_bits:\n",
        "        hash_grupo = hashlib.sha256(grupo.encode()).hexdigest()\n",
        "        paquete_hashes.append(hash_grupo)\n",
        "\n",
        "    return paquete_hashes"
      ],
      "metadata": {
        "id": "KJZfJdbH8dMN"
      },
      "execution_count": 31,
      "outputs": []
    },
    {
      "cell_type": "markdown",
      "source": [
        "###Transmisor\n",
        "\n",
        "* Imprimo los paquetes en código tunstall solo para visualizar pero estos no se transmiten.\n",
        "\n",
        "* Codifico los paquetes en Tunstall\n",
        "\n",
        "* Hasheo los paquetes."
      ],
      "metadata": {
        "id": "K2BArG6q6XT3"
      }
    },
    {
      "cell_type": "code",
      "source": [
        "def transmisor_de_la_nave_espacial(datos_recopilados):\n",
        "    objeto_detectado = datos_recopilados[\"Se detectó\"]\n",
        "    ubicacion = datos_recopilados[\"Ubicación\"]\n",
        "    imagenes = datos_recopilados[\"Imagenes\"]\n",
        "\n",
        "    # CODIFICACIÓN TUNSTALL\n",
        "    paquete_objeto_codificado, codigos_objeto = codificacion_tunstall(objeto_detectado)\n",
        "    paquete_ubicacion_codificado, codigos_ubicacion = codificacion_tunstall(str(ubicacion))\n",
        "\n",
        "    paquetes_codificados = {\n",
        "        \"Se detectó\": paquete_objeto_codificado,\n",
        "        \"Ubicación\": paquete_ubicacion_codificado,\n",
        "        \"Imagenes\": imagenes\n",
        "    }\n",
        "    print(\"\\nPaquetes codificados en Tunstall:\")\n",
        "    print(paquetes_codificados)\n",
        "\n",
        "    handshake_codigos_objeto = pd.DataFrame(list(codigos_objeto.items()), columns=['Simbolo', 'Código'])\n",
        "    handshake_codigos_ubicacion = pd.DataFrame(list(codigos_ubicacion.items()), columns=['Simbolo', 'Código'])\n",
        "\n",
        "    # Genero los hashes para los paquetes codificados\n",
        "    paquete_objeto_hasheado = hashear_paquetes(paquete_objeto_codificado)\n",
        "    paquete_ubicacion_hasheado = hashear_paquetes(paquete_ubicacion_codificado)\n",
        "\n",
        "    datos_transmitidos_hasheados = {\n",
        "        \"Se detectó\": paquete_objeto_hasheado,\n",
        "        \"Ubicación\": paquete_ubicacion_hasheado,\n",
        "        \"Imagenes\": imagenes\n",
        "    }\n",
        "\n",
        "    return datos_transmitidos_hasheados, codigos_objeto, codigos_ubicacion"
      ],
      "metadata": {
        "id": "5O16ei5y8g6z"
      },
      "execution_count": 32,
      "outputs": []
    },
    {
      "cell_type": "markdown",
      "source": [
        "###Canal\n",
        "\n",
        "* En el canal viajan los paquetes hasheados."
      ],
      "metadata": {
        "id": "ZDz1trlp6bpG"
      }
    },
    {
      "cell_type": "code",
      "source": [
        "# Este es el medio por el que viajaran los datos transmitidos\n",
        "# esta función simula el canal, en este caso es por medio de fibra óptica\n",
        "def fibra_optica(datos_transmitidos_hasheados):\n",
        "\n",
        "    \"\"\" DETALLES DE LA FIBRA ÓPTICA \"\"\"\n",
        "    # longitud de la fibra en km\n",
        "    longitud_km = 15\n",
        "    # velocidad de la luz en ms\n",
        "    velocidad_ms = 7000\n",
        "    # longitud de la fibra a metros\n",
        "    longitud_m = longitud_km * 1000\n",
        "    # tiempo de propagación en segundos\n",
        "    tiempo = longitud_m / velocidad_ms\n",
        "\n",
        "    objeto_codificado = datos_transmitidos_hasheados[\"Se detectó\"]\n",
        "    ubicacion_codificada = datos_transmitidos_hasheados[\"Ubicación\"]\n",
        "    imagenes_codificada = datos_transmitidos_hasheados[\"Imagenes\"]\n",
        "    datos_canal = datos_transmitidos_hasheados.copy()\n",
        "\n",
        "    datos_canal[\"Se detectó\"] = objeto_codificado\n",
        "    datos_canal[\"Ubicación\"] = ubicacion_codificada\n",
        "\n",
        "    return datos_canal, tiempo"
      ],
      "metadata": {
        "id": "eDh7thsP8kMM"
      },
      "execution_count": 33,
      "outputs": []
    },
    {
      "cell_type": "markdown",
      "source": [
        "###Decodificador del código Tunstall"
      ],
      "metadata": {
        "id": "2EA4bW_l6efe"
      }
    },
    {
      "cell_type": "code",
      "source": [
        "def decodificacion_tunstall(cadena_codificada_t, codigos_tunstall):\n",
        "    # recibe los paquetes en tipo de variable lista así que lo vuelvo cadena\n",
        "    cadena_codificada_t = [item for sublist in cadena_codificada_t for item in sublist]\n",
        "    cadena_codificada_t = \"\".join(map(str, cadena_codificada_t))\n",
        "    cadena_tunstall_decodificada = \"\"\n",
        "    codigo_actual = \"\"\n",
        "\n",
        "    for bit in cadena_codificada_t:\n",
        "        codigo_actual += bit\n",
        "        simbolo_encontrado = None\n",
        "\n",
        "        for simbolo, codigo in codigos_tunstall.items():\n",
        "            if codigo_actual.startswith(codigo):\n",
        "                simbolo_encontrado = simbolo\n",
        "                break\n",
        "\n",
        "        if simbolo_encontrado is not None:\n",
        "            cadena_tunstall_decodificada += simbolo_encontrado\n",
        "            codigo_actual = codigo_actual[len(codigo):]\n",
        "\n",
        "    return cadena_tunstall_decodificada"
      ],
      "metadata": {
        "id": "8CkZgNh49Pk-"
      },
      "execution_count": 34,
      "outputs": []
    },
    {
      "cell_type": "markdown",
      "source": [
        "###Función que hashea los códigos Tunstall del handshake"
      ],
      "metadata": {
        "id": "YOcpIXiA6q5u"
      }
    },
    {
      "cell_type": "code",
      "source": [
        "def hashear_handshake(codigos_tunstall):\n",
        "    df_codigos = pd.DataFrame(list(codigos_tunstall.items()), columns=['Simbolo', 'Código'])\n",
        "    df_codigos['Hash'] = df_codigos['Código'].apply(lambda x: hashlib.sha256(x.encode()).hexdigest())\n",
        "    # este diccionario mapea cada código a su hash correspondiente\n",
        "    diccionario_hash = dict(zip(df_codigos['Código'], df_codigos['Hash']))\n",
        "    return diccionario_hash"
      ],
      "metadata": {
        "id": "Ywd5Pc_09ShP"
      },
      "execution_count": 35,
      "outputs": []
    },
    {
      "cell_type": "markdown",
      "source": [
        "###Búsqueda binaria\n",
        "Esta función recibe los handshake y los paquetes hasheados.\n",
        "\n",
        "* Uso la recursividad para  dividir la lista a la mitad en cada llamada hasta que se encuentre el paquete hasheado que se busca en la lista de hash en el handshake o determine que no se encuentra.\n",
        "\n",
        "* Si el paquete se encuentra en el handshake, retorna que el paquete se encontró y va guardando en una lista el código tunstall al que corresponde.\n",
        "\n",
        "* Devuelve que se encontraron todos los paquetes y los paquetes codificados en tunstall. Por lo que se recontruye el mensaje original codificado en Tunstall."
      ],
      "metadata": {
        "id": "Ya9VdNjs6zBR"
      }
    },
    {
      "cell_type": "code",
      "source": [
        "def busqueda_binaria(lista_handshake, paquetes_hashes):\n",
        "    # convierto la los paquetes hasheados en una lista\n",
        "    hashes_a_buscar = paquetes_hashes\n",
        "    lista_cods_tunstall = [fila[0] for fila in lista_handshake]\n",
        "    lista_hashes_handshake = [fila[1] for fila in lista_handshake]\n",
        "\n",
        "    # lista de hashes ordenada para realizar la búsqueda binaria\n",
        "    lista_hashes_ordenados = sorted(enumerate(lista_hashes_handshake), key=lambda x: x[1])\n",
        "\n",
        "    # lista para almacenar los códigos correspondientes a los hashes encontrados\n",
        "    codigos_encontrados = []\n",
        "\n",
        "    # Con esta función aplico recursividad para hacer la busqueda\n",
        "    def busqueda_binaria_recursiva(inicio, fin, hash_a_buscar):\n",
        "        if inicio > fin:\n",
        "            return None\n",
        "        medio = (inicio + fin) // 2\n",
        "        if lista_hashes_ordenados[medio][1] == hash_a_buscar:\n",
        "            indice_encontrado = lista_hashes_ordenados[medio][0]\n",
        "            codigo_tunstall_encontrado = lista_cods_tunstall[indice_encontrado]\n",
        "            codigos_encontrados.append(codigo_tunstall_encontrado)\n",
        "            #print(f\"Hash encontrado: {hash_a_buscar}, Código Tunstall correspondiente: {codigo_tunstall_encontrado}\")\n",
        "            return True\n",
        "        elif lista_hashes_ordenados[medio][1] < hash_a_buscar:\n",
        "            return busqueda_binaria_recursiva(medio + 1, fin, hash_a_buscar)\n",
        "        else:\n",
        "            return busqueda_binaria_recursiva(inicio, medio - 1, hash_a_buscar)\n",
        "\n",
        "    # itera sobre cada hash a buscar y realiza la búsqueda binaria\n",
        "    # si todos los hashes se encuentran, retorna True y la lista de códigos encontrados\n",
        "    for hash_a_buscar in hashes_a_buscar:\n",
        "        busqueda_binaria_recursiva(0, len(lista_hashes_ordenados) - 1, hash_a_buscar)\n",
        "\n",
        "    return True, codigos_encontrados"
      ],
      "metadata": {
        "id": "Ux8P15di9YmU"
      },
      "execution_count": 36,
      "outputs": []
    },
    {
      "cell_type": "markdown",
      "source": [
        "###Receptor\n",
        "* El receptor recibe el hanshake y hashea los códigos Tunstall.\n",
        "\n",
        "* Manda a llamar la función de búsqueda binaria para encontrar los paquetes en el handshake.\n",
        "\n",
        "* Reconstruye el mensaje de los paquetes codificados en tunstall para la decodificación.\n",
        "\n",
        "* Notifica si se encontraron todos los paquetes hasheados en el handshake.\n",
        "\n",
        "* Decodifica el mensaje."
      ],
      "metadata": {
        "id": "oDhx_OsA8Uun"
      }
    },
    {
      "cell_type": "code",
      "source": [
        "def receptor(datos_canal, codigos_objeto, codigos_ubicacion):\n",
        "\n",
        "    objeto_codificado = datos_canal[\"Se detectó\"]\n",
        "    ubicacion_codificada = datos_canal[\"Ubicación\"]\n",
        "    imagenes = datos_canal[\"Imagenes\"]\n",
        "\n",
        "    handshake_codigos_objeto = pd.DataFrame(list(codigos_objeto.items()), columns=['Simbolo', 'Código'])\n",
        "    handshake_codigos_ubicacion = pd.DataFrame(list(codigos_ubicacion.items()), columns=['Simbolo', 'Código'])\n",
        "\n",
        "    # Hasheo los códigos tunstall de objeto y ubicación\n",
        "    diccionario_hash_objeto = hashear_handshake(codigos_objeto)\n",
        "    diccionario_hash_ubicacion = hashear_handshake(codigos_ubicacion)\n",
        "\n",
        "    # Al handshake agregos los hash\n",
        "    handshake_codigos_objeto['Hash'] = handshake_codigos_objeto['Código'].apply(lambda x: diccionario_hash_objeto[x])\n",
        "    handshake_codigos_ubicacion['Hash'] = handshake_codigos_ubicacion['Código'].apply(lambda x: diccionario_hash_ubicacion[x])\n",
        "\n",
        "    # Handshake\n",
        "    print(\"Handshake de objeto en Tunstall con Hash:\")\n",
        "    print(handshake_codigos_objeto)\n",
        "    print(\"\\nHandshake de ubicación en Tunstall con Hash:\")\n",
        "    print(handshake_codigos_ubicacion)\n",
        "\n",
        "    lista_hashes_objeto = list(zip(handshake_codigos_objeto['Código'], handshake_codigos_objeto['Hash']))\n",
        "    lista_hashes_ubicacion = list(zip(handshake_codigos_ubicacion['Código'], handshake_codigos_ubicacion['Hash']))\n",
        "\n",
        "    # búsqueda binaria para los hashes de objeto y ubi\n",
        "    paquetes_hashes_objeto = objeto_codificado\n",
        "    paquetes_hashes_ubicacion = ubicacion_codificada\n",
        "\n",
        "    resultado_busqueda_objeto, codigos_encontrados_objeto = busqueda_binaria(lista_hashes_objeto, paquetes_hashes_objeto)\n",
        "    resultado_busqueda_ubicacion, codigos_encontrados_ubicacion = busqueda_binaria(lista_hashes_ubicacion, paquetes_hashes_ubicacion)\n",
        "\n",
        "    \"\"\" Reconctruyendo el mensaje de los paquetes codificados en tunstall para la decodificación\"\"\"\n",
        "    # asigno los codigos encontrados\n",
        "    objeto_codificado = codigos_encontrados_objeto\n",
        "    ubicacion_codificada = codigos_encontrados_ubicacion\n",
        "\n",
        "    # verifico si se encontraron todos los hash en la busqueda\n",
        "    if resultado_busqueda_objeto:\n",
        "        print(\"¡Se encontraron todos los hashes de objeto en los paquetes!\")\n",
        "    else:\n",
        "        print(\"No se encontraron todos los hashes de objeto en los paquetes.\")\n",
        "\n",
        "    if resultado_busqueda_ubicacion:\n",
        "        print(\"¡Se encontraron todos los hashes de ubicación en los paquetes!\")\n",
        "    else:\n",
        "        print(\"No se encontraron todos los hashes de ubicación en los paquetes.\")\n",
        "\n",
        "    # Ya que recupere el mensaje original en código tunstall, procedo a la decodificación\n",
        "    objeto_decodificado = decodificacion_tunstall(objeto_codificado, codigos_objeto)\n",
        "    ubicacion_decodificada = decodificacion_tunstall(ubicacion_codificada, codigos_ubicacion)\n",
        "\n",
        "    datos_decodificados = {\n",
        "        \"Se detectó\": objeto_decodificado,\n",
        "        \"Ubicación\": ubicacion_decodificada,\n",
        "        \"Imagenes\": imagenes\n",
        "    }\n",
        "\n",
        "    return datos_decodificados"
      ],
      "metadata": {
        "id": "OSHb3VmB9ZrN"
      },
      "execution_count": 37,
      "outputs": []
    },
    {
      "cell_type": "code",
      "source": [
        "info_original = recopilar_datos()\n",
        "# Guardo las funciones en variables\n",
        "info_transmitida_hasheada, codigos_objeto, codigos_ubicacion = transmisor_de_la_nave_espacial(info_original)\n",
        "datos_canal, tiempo_propagacions = fibra_optica(info_transmitida_hasheada)\n",
        "info_receptada = receptor(datos_canal, codigos_objeto, codigos_ubicacion)\n",
        "# Finalmente la información ha llegado a los científicos de la Estación Espacial"
      ],
      "metadata": {
        "colab": {
          "base_uri": "https://localhost:8080/"
        },
        "id": "JTOGA_VUA-gD",
        "outputId": "ce24e94a-9eb3-4592-ec96-ad686c8cd858"
      },
      "execution_count": 38,
      "outputs": [
        {
          "output_type": "stream",
          "name": "stdout",
          "text": [
            "\n",
            "Paquetes codificados en Tunstall:\n",
            "{'Se detectó': '0011 0111 1000 0011 1001 0001 1010 0000 0100 0000 0010 0101 0010 0110 0100 0101 0001 1011 0001 0010 0000 1100 0110 0000 1101 0000 1110', 'Ubicación': '0110 0001 0001 0111 0010 1000 0000 0100 0101 0000 0001 0011 0010 0011 0000 0100 0101 0000 1001 1010 0010 1011 0011 1100', 'Imagenes': ['imagen1.jpg', 'imagen2.jpg']}\n",
            "Handshake de objeto en Tunstall con Hash:\n",
            "   Simbolo Código                                               Hash\n",
            "0        e   0000  9af15b336e6a9619928537df30b2e6a2376569fcf9d7e7...\n",
            "1            0001  888b19a43b151683c87895f6211d9f8640f97bdc8ef32f...\n",
            "2        r   0010  0b08e3dcc50fe4e5cee9b0b3a671a8db936f8335ba9050...\n",
            "3        a   0011  a8d0b6f0939cfd883251f62b265f971ef8a5ab97eee32b...\n",
            "4        t   0100  5e7b571a60a7c187d6a4cb8bbedbe4e69d4caa49b51d9d...\n",
            "5        o   0101  07334386287751ba02a4588c1a0875dbd074a61bd9e6ab...\n",
            "6        i   0110  a5c3dd48facf21ed5f916d0ae979091fead570e6aea6c1...\n",
            "7        g   0111  5bedd317328c9ed79ecd3aecee74d37f97813cb4ce61ef...\n",
            "8        u   1000  40510175845988f13f6162ed8526f0b09f73384467fa85...\n",
            "9        ,   1001  fe675fe7aaee830b6fed09b64e034f84dcbdaeb429d9cc...\n",
            "10       m   1010  7a5df5ffa0dec2228d90b8d0a0f1b0767b748b0a41314c...\n",
            "11       &   1011  3dd9c0995d54c0abd51a90f1d57b1ce77bc885fc8a7cea...\n",
            "12       l   1100  ab9828ca390581b72629069049793ba3c99bb8e5e9e7b9...\n",
            "13       v   1101  36ab771eba23f49d7ae43af88c601f3de8fccb20125090...\n",
            "14       s   1110  055f78940c07630352676197ab7c3ed8d5bb204d406e5c...\n",
            "\n",
            "Handshake de ubicación en Tunstall con Hash:\n",
            "   Simbolo Código                                               Hash\n",
            "0        4   0000  9af15b336e6a9619928537df30b2e6a2376569fcf9d7e7...\n",
            "1        9   0001  888b19a43b151683c87895f6211d9f8640f97bdc8ef32f...\n",
            "2        .   0010  0b08e3dcc50fe4e5cee9b0b3a671a8db936f8335ba9050...\n",
            "3        1   0011  a8d0b6f0939cfd883251f62b265f971ef8a5ab97eee32b...\n",
            "4        ,   0100  5e7b571a60a7c187d6a4cb8bbedbe4e69d4caa49b51d9d...\n",
            "5            0101  07334386287751ba02a4588c1a0875dbd074a61bd9e6ab...\n",
            "6        (   0110  a5c3dd48facf21ed5f916d0ae979091fead570e6aea6c1...\n",
            "7        6   0111  5bedd317328c9ed79ecd3aecee74d37f97813cb4ce61ef...\n",
            "8        0   1000  40510175845988f13f6162ed8526f0b09f73384467fa85...\n",
            "9        8   1001  fe675fe7aaee830b6fed09b64e034f84dcbdaeb429d9cc...\n",
            "10       2   1010  7a5df5ffa0dec2228d90b8d0a0f1b0767b748b0a41314c...\n",
            "11       5   1011  3dd9c0995d54c0abd51a90f1d57b1ce77bc885fc8a7cea...\n",
            "12       )   1100  ab9828ca390581b72629069049793ba3c99bb8e5e9e7b9...\n",
            "¡Se encontraron todos los hashes de objeto en los paquetes!\n",
            "¡Se encontraron todos los hashes de ubicación en los paquetes!\n"
          ]
        }
      ]
    },
    {
      "cell_type": "code",
      "source": [
        "print(\"===== Datos Recibidos en la Estación Espacial =====\")\n",
        "print(\"===== Perseverance 2.1 ha capturado los siguientes datos ===== \\n\")\n",
        "\n",
        "print(\"Datos originales:\")\n",
        "print(info_original)\n",
        "print()\n",
        "\n",
        "print(\"Paquetes transmitidos:\")\n",
        "print(info_transmitida_hasheada)\n",
        "print()\n",
        "\n",
        "print(\"Paquetes transmitidos después del canal:\")\n",
        "print(datos_canal)\n",
        "print()\n",
        "\n",
        "print(\"Datos receptados:\")\n",
        "print(info_receptada)"
      ],
      "metadata": {
        "colab": {
          "base_uri": "https://localhost:8080/"
        },
        "id": "LR3eRgBGBF8D",
        "outputId": "a1646225-7eeb-452c-9340-0a58ca867e03"
      },
      "execution_count": 39,
      "outputs": [
        {
          "output_type": "stream",
          "name": "stdout",
          "text": [
            "===== Datos Recibidos en la Estación Espacial =====\n",
            "===== Perseverance 2.1 ha capturado los siguientes datos ===== \n",
            "\n",
            "Datos originales:\n",
            "{'Se detectó': 'agua, meterorito & relieves', 'Ubicación': (996.04, 491.14, 482.51), 'Imagenes': ['imagen1.jpg', 'imagen2.jpg']}\n",
            "\n",
            "Paquetes transmitidos:\n",
            "{'Se detectó': ['a8d0b6f0939cfd883251f62b265f971ef8a5ab97eee32b91460f08b965601d93', '5bedd317328c9ed79ecd3aecee74d37f97813cb4ce61ef3402eb388fb369fa86', '40510175845988f13f6162ed8526f0b09f73384467fa855e1e79b44a56562a58', 'a8d0b6f0939cfd883251f62b265f971ef8a5ab97eee32b91460f08b965601d93', 'fe675fe7aaee830b6fed09b64e034f84dcbdaeb429d9cccd4ebb90e15af8dd71', '888b19a43b151683c87895f6211d9f8640f97bdc8ef32f03dbe057c8f5e56d32', '7a5df5ffa0dec2228d90b8d0a0f1b0767b748b0a41314c123075b8289e4e053f', '9af15b336e6a9619928537df30b2e6a2376569fcf9d7e773eccede65606529a0', '5e7b571a60a7c187d6a4cb8bbedbe4e69d4caa49b51d9ddf3320afd793f146bf', '9af15b336e6a9619928537df30b2e6a2376569fcf9d7e773eccede65606529a0', '0b08e3dcc50fe4e5cee9b0b3a671a8db936f8335ba9050696d41cbb9a07f22e3', '07334386287751ba02a4588c1a0875dbd074a61bd9e6ab7c48d244eacd0c99e0', '0b08e3dcc50fe4e5cee9b0b3a671a8db936f8335ba9050696d41cbb9a07f22e3', 'a5c3dd48facf21ed5f916d0ae979091fead570e6aea6c1d8038d1f68b26fa51f', '5e7b571a60a7c187d6a4cb8bbedbe4e69d4caa49b51d9ddf3320afd793f146bf', '07334386287751ba02a4588c1a0875dbd074a61bd9e6ab7c48d244eacd0c99e0', '888b19a43b151683c87895f6211d9f8640f97bdc8ef32f03dbe057c8f5e56d32', '3dd9c0995d54c0abd51a90f1d57b1ce77bc885fc8a7cea52dcad3c2540dda5ee', '888b19a43b151683c87895f6211d9f8640f97bdc8ef32f03dbe057c8f5e56d32', '0b08e3dcc50fe4e5cee9b0b3a671a8db936f8335ba9050696d41cbb9a07f22e3', '9af15b336e6a9619928537df30b2e6a2376569fcf9d7e773eccede65606529a0', 'ab9828ca390581b72629069049793ba3c99bb8e5e9e7b97a55c71957e04df9a3', 'a5c3dd48facf21ed5f916d0ae979091fead570e6aea6c1d8038d1f68b26fa51f', '9af15b336e6a9619928537df30b2e6a2376569fcf9d7e773eccede65606529a0', '36ab771eba23f49d7ae43af88c601f3de8fccb201250906a4085444ae765f2db', '9af15b336e6a9619928537df30b2e6a2376569fcf9d7e773eccede65606529a0', '055f78940c07630352676197ab7c3ed8d5bb204d406e5c6ff101f870bc9b7dd7'], 'Ubicación': ['a5c3dd48facf21ed5f916d0ae979091fead570e6aea6c1d8038d1f68b26fa51f', '888b19a43b151683c87895f6211d9f8640f97bdc8ef32f03dbe057c8f5e56d32', '888b19a43b151683c87895f6211d9f8640f97bdc8ef32f03dbe057c8f5e56d32', '5bedd317328c9ed79ecd3aecee74d37f97813cb4ce61ef3402eb388fb369fa86', '0b08e3dcc50fe4e5cee9b0b3a671a8db936f8335ba9050696d41cbb9a07f22e3', '40510175845988f13f6162ed8526f0b09f73384467fa855e1e79b44a56562a58', '9af15b336e6a9619928537df30b2e6a2376569fcf9d7e773eccede65606529a0', '5e7b571a60a7c187d6a4cb8bbedbe4e69d4caa49b51d9ddf3320afd793f146bf', '07334386287751ba02a4588c1a0875dbd074a61bd9e6ab7c48d244eacd0c99e0', '9af15b336e6a9619928537df30b2e6a2376569fcf9d7e773eccede65606529a0', '888b19a43b151683c87895f6211d9f8640f97bdc8ef32f03dbe057c8f5e56d32', 'a8d0b6f0939cfd883251f62b265f971ef8a5ab97eee32b91460f08b965601d93', '0b08e3dcc50fe4e5cee9b0b3a671a8db936f8335ba9050696d41cbb9a07f22e3', 'a8d0b6f0939cfd883251f62b265f971ef8a5ab97eee32b91460f08b965601d93', '9af15b336e6a9619928537df30b2e6a2376569fcf9d7e773eccede65606529a0', '5e7b571a60a7c187d6a4cb8bbedbe4e69d4caa49b51d9ddf3320afd793f146bf', '07334386287751ba02a4588c1a0875dbd074a61bd9e6ab7c48d244eacd0c99e0', '9af15b336e6a9619928537df30b2e6a2376569fcf9d7e773eccede65606529a0', 'fe675fe7aaee830b6fed09b64e034f84dcbdaeb429d9cccd4ebb90e15af8dd71', '7a5df5ffa0dec2228d90b8d0a0f1b0767b748b0a41314c123075b8289e4e053f', '0b08e3dcc50fe4e5cee9b0b3a671a8db936f8335ba9050696d41cbb9a07f22e3', '3dd9c0995d54c0abd51a90f1d57b1ce77bc885fc8a7cea52dcad3c2540dda5ee', 'a8d0b6f0939cfd883251f62b265f971ef8a5ab97eee32b91460f08b965601d93', 'ab9828ca390581b72629069049793ba3c99bb8e5e9e7b97a55c71957e04df9a3'], 'Imagenes': ['imagen1.jpg', 'imagen2.jpg']}\n",
            "\n",
            "Paquetes transmitidos después del canal:\n",
            "{'Se detectó': ['a8d0b6f0939cfd883251f62b265f971ef8a5ab97eee32b91460f08b965601d93', '5bedd317328c9ed79ecd3aecee74d37f97813cb4ce61ef3402eb388fb369fa86', '40510175845988f13f6162ed8526f0b09f73384467fa855e1e79b44a56562a58', 'a8d0b6f0939cfd883251f62b265f971ef8a5ab97eee32b91460f08b965601d93', 'fe675fe7aaee830b6fed09b64e034f84dcbdaeb429d9cccd4ebb90e15af8dd71', '888b19a43b151683c87895f6211d9f8640f97bdc8ef32f03dbe057c8f5e56d32', '7a5df5ffa0dec2228d90b8d0a0f1b0767b748b0a41314c123075b8289e4e053f', '9af15b336e6a9619928537df30b2e6a2376569fcf9d7e773eccede65606529a0', '5e7b571a60a7c187d6a4cb8bbedbe4e69d4caa49b51d9ddf3320afd793f146bf', '9af15b336e6a9619928537df30b2e6a2376569fcf9d7e773eccede65606529a0', '0b08e3dcc50fe4e5cee9b0b3a671a8db936f8335ba9050696d41cbb9a07f22e3', '07334386287751ba02a4588c1a0875dbd074a61bd9e6ab7c48d244eacd0c99e0', '0b08e3dcc50fe4e5cee9b0b3a671a8db936f8335ba9050696d41cbb9a07f22e3', 'a5c3dd48facf21ed5f916d0ae979091fead570e6aea6c1d8038d1f68b26fa51f', '5e7b571a60a7c187d6a4cb8bbedbe4e69d4caa49b51d9ddf3320afd793f146bf', '07334386287751ba02a4588c1a0875dbd074a61bd9e6ab7c48d244eacd0c99e0', '888b19a43b151683c87895f6211d9f8640f97bdc8ef32f03dbe057c8f5e56d32', '3dd9c0995d54c0abd51a90f1d57b1ce77bc885fc8a7cea52dcad3c2540dda5ee', '888b19a43b151683c87895f6211d9f8640f97bdc8ef32f03dbe057c8f5e56d32', '0b08e3dcc50fe4e5cee9b0b3a671a8db936f8335ba9050696d41cbb9a07f22e3', '9af15b336e6a9619928537df30b2e6a2376569fcf9d7e773eccede65606529a0', 'ab9828ca390581b72629069049793ba3c99bb8e5e9e7b97a55c71957e04df9a3', 'a5c3dd48facf21ed5f916d0ae979091fead570e6aea6c1d8038d1f68b26fa51f', '9af15b336e6a9619928537df30b2e6a2376569fcf9d7e773eccede65606529a0', '36ab771eba23f49d7ae43af88c601f3de8fccb201250906a4085444ae765f2db', '9af15b336e6a9619928537df30b2e6a2376569fcf9d7e773eccede65606529a0', '055f78940c07630352676197ab7c3ed8d5bb204d406e5c6ff101f870bc9b7dd7'], 'Ubicación': ['a5c3dd48facf21ed5f916d0ae979091fead570e6aea6c1d8038d1f68b26fa51f', '888b19a43b151683c87895f6211d9f8640f97bdc8ef32f03dbe057c8f5e56d32', '888b19a43b151683c87895f6211d9f8640f97bdc8ef32f03dbe057c8f5e56d32', '5bedd317328c9ed79ecd3aecee74d37f97813cb4ce61ef3402eb388fb369fa86', '0b08e3dcc50fe4e5cee9b0b3a671a8db936f8335ba9050696d41cbb9a07f22e3', '40510175845988f13f6162ed8526f0b09f73384467fa855e1e79b44a56562a58', '9af15b336e6a9619928537df30b2e6a2376569fcf9d7e773eccede65606529a0', '5e7b571a60a7c187d6a4cb8bbedbe4e69d4caa49b51d9ddf3320afd793f146bf', '07334386287751ba02a4588c1a0875dbd074a61bd9e6ab7c48d244eacd0c99e0', '9af15b336e6a9619928537df30b2e6a2376569fcf9d7e773eccede65606529a0', '888b19a43b151683c87895f6211d9f8640f97bdc8ef32f03dbe057c8f5e56d32', 'a8d0b6f0939cfd883251f62b265f971ef8a5ab97eee32b91460f08b965601d93', '0b08e3dcc50fe4e5cee9b0b3a671a8db936f8335ba9050696d41cbb9a07f22e3', 'a8d0b6f0939cfd883251f62b265f971ef8a5ab97eee32b91460f08b965601d93', '9af15b336e6a9619928537df30b2e6a2376569fcf9d7e773eccede65606529a0', '5e7b571a60a7c187d6a4cb8bbedbe4e69d4caa49b51d9ddf3320afd793f146bf', '07334386287751ba02a4588c1a0875dbd074a61bd9e6ab7c48d244eacd0c99e0', '9af15b336e6a9619928537df30b2e6a2376569fcf9d7e773eccede65606529a0', 'fe675fe7aaee830b6fed09b64e034f84dcbdaeb429d9cccd4ebb90e15af8dd71', '7a5df5ffa0dec2228d90b8d0a0f1b0767b748b0a41314c123075b8289e4e053f', '0b08e3dcc50fe4e5cee9b0b3a671a8db936f8335ba9050696d41cbb9a07f22e3', '3dd9c0995d54c0abd51a90f1d57b1ce77bc885fc8a7cea52dcad3c2540dda5ee', 'a8d0b6f0939cfd883251f62b265f971ef8a5ab97eee32b91460f08b965601d93', 'ab9828ca390581b72629069049793ba3c99bb8e5e9e7b97a55c71957e04df9a3'], 'Imagenes': ['imagen1.jpg', 'imagen2.jpg']}\n",
            "\n",
            "Datos receptados:\n",
            "{'Se detectó': 'agua, meterorito & relieves', 'Ubicación': '(996.04, 491.14, 482.51)', 'Imagenes': ['imagen1.jpg', 'imagen2.jpg']}\n"
          ]
        }
      ]
    }
  ]
}