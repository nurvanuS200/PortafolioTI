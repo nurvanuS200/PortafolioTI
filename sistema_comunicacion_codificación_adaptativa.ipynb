{
  "nbformat": 4,
  "nbformat_minor": 0,
  "metadata": {
    "colab": {
      "provenance": []
    },
    "kernelspec": {
      "name": "python3",
      "display_name": "Python 3"
    },
    "language_info": {
      "name": "python"
    }
  },
  "cells": [
    {
      "cell_type": "markdown",
      "source": [
        "## JAZMIN VIVIANA SANTOYO VEGA\n",
        "###**Sistema de Comunicación de un Robot Espacial**\n",
        "####**Teoría de la Información **"
      ],
      "metadata": {
        "id": "ZONb_-QMtpJL"
      }
    },
    {
      "cell_type": "code",
      "source": [
        "import random\n",
        "import pickle\n",
        "import math\n",
        "import matplotlib.pyplot as plt\n",
        "from collections import Counter\n",
        "import heapq\n",
        "from collections import defaultdict\n",
        "import pandas as pd\n",
        "import struct"
      ],
      "metadata": {
        "id": "wMsyJIIk1LqJ"
      },
      "execution_count": 1,
      "outputs": []
    },
    {
      "cell_type": "markdown",
      "source": [
        "###Fuente de Información"
      ],
      "metadata": {
        "id": "mzyKRGZpBP1I"
      }
    },
    {
      "cell_type": "code",
      "source": [
        "# Aquí la fuente de información son los sensores del robot recopilan datos\n",
        "def recopilar_datos():\n",
        "  # Simulacion de algunos atributos que recopila el sensor del robot\n",
        "  objetos = [\"mineral, roca & meteorito\", \"roca, cristal, agua & hielo\", \"cristal\", \"hielo, relieves, regolito & meteorito\", \"agua, meterorito & relieves\",\"objeto no identificado\"]\n",
        "  #objetos = [\"agua\"]\n",
        "  ubicacion = (round(random.uniform(-1000, 1000), 2), round(random.uniform(-1000, 1000), 2), round(random.uniform(-1000, 1000), 2))\n",
        "  imagenes = [\"imagen1.jpg\", \"imagen2.jpg\"]\n",
        "\n",
        "  objeto = random.choice(objetos)\n",
        "  datos_recopilados = {\n",
        "      \"Se detectó\": objeto,\n",
        "      \"Ubicación\": ubicacion,\n",
        "      \"Imagenes\": imagenes\n",
        "  }\n",
        "  return datos_recopilados"
      ],
      "metadata": {
        "id": "5Af2qSqLtpX5"
      },
      "execution_count": 2,
      "outputs": []
    },
    {
      "cell_type": "markdown",
      "source": [
        " ### Calcular frecuencia"
      ],
      "metadata": {
        "id": "2EnnQTr3tivP"
      }
    },
    {
      "cell_type": "code",
      "source": [
        "# recibe una cadena de texto o de numeros para calcular la frecuencia y devolver a la codificación que se desee\n",
        "def obtiene_frecuencia(cadena):\n",
        "    frecuencias = dict(Counter(cadena))\n",
        "    return frecuencias"
      ],
      "metadata": {
        "id": "T5mnvoMRNaXv"
      },
      "execution_count": 3,
      "outputs": []
    },
    {
      "cell_type": "markdown",
      "source": [
        "### Codificación Binaria"
      ],
      "metadata": {
        "id": "uqyIUYm4Uh5q"
      }
    },
    {
      "cell_type": "code",
      "source": [
        "def codificacion_binaria(cadena):\n",
        "    # codifica la cadena en binario\n",
        "    cadena_codificada_binario = ''.join(format(ord(c), '08b') for c in cadena)\n",
        "\n",
        "    #  diccionario de códigos para cada símbolo\n",
        "    codigos_binario = {c: format(ord(c), '08b') for c in cadena}\n",
        "\n",
        "    return cadena_codificada_binario, codigos_binario"
      ],
      "metadata": {
        "id": "045Hi6f1UmLa"
      },
      "execution_count": 4,
      "outputs": []
    },
    {
      "cell_type": "markdown",
      "source": [
        "### Codificación Huffman"
      ],
      "metadata": {
        "id": "p82MVy05TpBM"
      }
    },
    {
      "cell_type": "code",
      "source": [
        "def crea_arbol_huffman(frecuencias):\n",
        "  # lista de nodos, donde cada nodo es [frecuencia, [numero, codigo]]\n",
        "    heap = [[frecuencia, [numero, \"\"]] for numero, frecuencia in frecuencias.items()]\n",
        "    # convierto la lista en una cola de prioridad\n",
        "    heapq.heapify(heap)\n",
        "    # mientras haya más de un nodo en la cola de prioridad (árbol incompleto)\n",
        "    while len(heap) > 1:\n",
        "        menos_frecuente = heapq.heappop(heap)\n",
        "        mas_frecuente = heapq.heappop(heap)\n",
        "\n",
        "        for elem in menos_frecuente[1:]:\n",
        "            elem[1] = '0' + elem[1]\n",
        "\n",
        "        for elem in mas_frecuente[1:]:\n",
        "            elem[1] = '1' + elem[1]\n",
        "            # combino los dos nodos en uno y lo vuelve a insertar en la cola de prioridad\n",
        "        heapq.heappush(heap, [menos_frecuente[0] + mas_frecuente[0]] + menos_frecuente[1:] + mas_frecuente[1:])\n",
        "\n",
        "    return sorted(heapq.heappop(heap)[1:], key=lambda p: (len(p[-1]), p))"
      ],
      "metadata": {
        "id": "wQQLxku4wMmo"
      },
      "execution_count": 5,
      "outputs": []
    },
    {
      "cell_type": "code",
      "source": [
        "def codificacion_huffman(cadena):\n",
        "  # llamo a mi función que obtiene la frecuencia y a la que crea el árbol huffman\n",
        "    frecuencia_simbolo = obtiene_frecuencia(cadena)\n",
        "    arbol_huffman = crea_arbol_huffman(frecuencia_simbolo)\n",
        "\n",
        "    codigos_huffman = {}\n",
        "    for numero, codigo in arbol_huffman:\n",
        "        codigos_huffman[numero] = codigo\n",
        "    # la cadena codificada\n",
        "    cadena_codificada_huffman = ''.join([codigos_huffman[numero] for numero in cadena])\n",
        "\n",
        "    return cadena_codificada_huffman, codigos_huffman"
      ],
      "metadata": {
        "id": "H98OySQqO-nA"
      },
      "execution_count": 6,
      "outputs": []
    },
    {
      "cell_type": "markdown",
      "source": [
        "### Codificación Shannon-Fano"
      ],
      "metadata": {
        "id": "AJhSa4_byLhy"
      }
    },
    {
      "cell_type": "code",
      "source": [
        "def codificacion_shannon_fano(cadena):\n",
        "    def shannon_fano_recursivo(frecuencias):\n",
        "        if len(frecuencias) == 1:\n",
        "            simbolo = list(frecuencias.keys())[0]\n",
        "            return {simbolo: ''}\n",
        "        # Paso 1: Ordeno símbolos por frecuencia (mayor a menor)\n",
        "        frecuencias_ordenadas = sorted(frecuencias.items(), key=lambda x: x[1], reverse=True)\n",
        "\n",
        "        # Paso 2: Divido la lista en dos partes\n",
        "        mitad = len(frecuencias_ordenadas) // 2\n",
        "        mitad_izquierda = frecuencias_ordenadas[:mitad]\n",
        "        mitad_derecha = frecuencias_ordenadas[mitad:]\n",
        "\n",
        "        # Paso 3: Asigno dígitos binarios 0 y 1\n",
        "        codigos_sf = {}\n",
        "        for simbolo, freq in mitad_izquierda:\n",
        "            codigos_sf[simbolo] = '0'\n",
        "        for simbolo, freq in mitad_derecha:\n",
        "            codigos_sf[simbolo] = '1'\n",
        "\n",
        "        # Paso 4: Aplico recursivamente a cada mitad\n",
        "        codigos_izquierda = shannon_fano_recursivo({k: v for k, v in mitad_izquierda})\n",
        "        for simbolo, codigo in codigos_izquierda.items():\n",
        "            codigos_sf[simbolo] = '0' + codigo\n",
        "        codigos_derecha = shannon_fano_recursivo({k: v for k, v in mitad_derecha})\n",
        "        for simbolo, codigo in codigos_derecha.items():\n",
        "            codigos_sf[simbolo] = '1' + codigo\n",
        "\n",
        "        return codigos_sf\n",
        "\n",
        "    frecuencias = obtiene_frecuencia(cadena)\n",
        "    codigos_sf = shannon_fano_recursivo(frecuencias)\n",
        "\n",
        "    # Codifico la cadena\n",
        "    cadena_codificada_sf = ''.join(codigos_sf[simbolo] for simbolo in cadena)\n",
        "\n",
        "    return cadena_codificada_sf, codigos_sf"
      ],
      "metadata": {
        "id": "XgNyRuzUyPSI"
      },
      "execution_count": 7,
      "outputs": []
    },
    {
      "cell_type": "markdown",
      "source": [
        "### Codificación Gray"
      ],
      "metadata": {
        "id": "sKjSoWxMNFDK"
      }
    },
    {
      "cell_type": "code",
      "source": [
        "def codificacion_gray(cadena):\n",
        "    def gray_codigo(num):\n",
        "        return num ^ (num >> 1)\n",
        "\n",
        "    # obtengo la longitud de la cadena\n",
        "    longitud = len(cadena)\n",
        "\n",
        "    # convierto la cadena de entrada en una secuencia de bits\n",
        "    bits = ''.join(format(ord(char), '08b') for char in cadena)\n",
        "\n",
        "    # diccionario para asignar códigos de Gray a cada símbolo\n",
        "    codigos_gray = {}\n",
        "\n",
        "    for i in range(longitud):\n",
        "        simbolo = cadena[i]\n",
        "        num = int(bits[i*8:(i+1)*8], 2)\n",
        "        codigo = gray_codigo(num)\n",
        "        codigos_gray[simbolo] = format(codigo, f'0{8}b')\n",
        "\n",
        "    # codifico la cadena de entrada utilizando los códigos de Gray\n",
        "    cadena_codificada_gray = \"\".join([codigos_gray[s] for s in cadena])\n",
        "\n",
        "    return cadena_codificada_gray, codigos_gray"
      ],
      "metadata": {
        "id": "LfBxiW38NIFS"
      },
      "execution_count": 8,
      "outputs": []
    },
    {
      "cell_type": "markdown",
      "source": [
        "### Codificación Tunstall"
      ],
      "metadata": {
        "id": "2E0qNat38hHy"
      }
    },
    {
      "cell_type": "code",
      "source": [
        "def codificacion_tunstall(cadena):\n",
        "\n",
        "    frecuencias = obtiene_frecuencia(cadena)\n",
        "\n",
        "    # creo una lista de tuplas (símbolo, frecuencia) ordenadas por frecuencia\n",
        "    simbolos_frecuencias = sorted(frecuencias.items(), key=lambda x: x[1], reverse=True)\n",
        "\n",
        "    # diccionario para asignar códigos Tunstall a cada símbolo\n",
        "    codigos_tunstall = {}\n",
        "    num_bits = 0\n",
        "\n",
        "    while len(simbolos_frecuencias) > 2 ** num_bits:\n",
        "        num_bits += 1\n",
        "\n",
        "    for i, (simbolo, _) in enumerate(simbolos_frecuencias):\n",
        "        codigo = format(i, f'0{num_bits}b')\n",
        "        codigos_tunstall[simbolo] = codigo\n",
        "\n",
        "    # la cadena de entrada utilizando los códigos Tunstall\n",
        "    cadena_codificada_t = \"\".join([codigos_tunstall[s] for s in cadena])\n",
        "\n",
        "    return cadena_codificada_t, codigos_tunstall"
      ],
      "metadata": {
        "id": "RKgdbhbLQ25j"
      },
      "execution_count": 9,
      "outputs": []
    },
    {
      "cell_type": "markdown",
      "source": [
        "### Transmisor con menu"
      ],
      "metadata": {
        "id": "VmeieYfyZ61M"
      }
    },
    {
      "cell_type": "code",
      "source": [
        "def transmisor_de_la_nave_espacial(datos_recopilados):\n",
        "    objeto_detectado = datos_recopilados[\"Se detectó\"]\n",
        "    ubicacion = datos_recopilados[\"Ubicación\"]\n",
        "    imagenes = datos_recopilados[\"Imagenes\"]\n",
        "\n",
        "    print(\"Elige el tipo de codificación:\")\n",
        "    print(\"1. Binario\")\n",
        "    print(\"2. Huffman\")\n",
        "    print(\"3. Shannon-Fano\")\n",
        "    print(\"4. Gray\")\n",
        "    print(\"5. Tunstall\")\n",
        "    opcion = input(\"Ingrese el número correspondiente a la opción deseada: \")\n",
        "\n",
        "    if opcion == \"1\":\n",
        "        # CODIFICACION BINARIO\n",
        "        cadena_objeto_codificada, codigos_objeto = codificacion_binaria(objeto_detectado)\n",
        "        cadena_ubicacion_codificada, codigos_ubicacion = codificacion_binaria(str(ubicacion))\n",
        "        df_codigos_objeto = pd.DataFrame(list(codigos_objeto.items()), columns=['Simbolo', 'Código'])\n",
        "        df_codigos_ubicacion = pd.DataFrame(list(codigos_ubicacion.items()), columns=['Simbolo', 'Código'])\n",
        "\n",
        "        print(\"Handshake de objeto en binario:\")\n",
        "        print(df_codigos_objeto)\n",
        "        print(\"\\nHandshake de ubicación en binario:\")\n",
        "        print(df_codigos_ubicacion)\n",
        "      # los datos codificados con Huffman\n",
        "\n",
        "        datos_transmitidos = {\n",
        "            \"Se detectó\": cadena_objeto_codificada,\n",
        "            \"Ubicación\": cadena_ubicacion_codificada,\n",
        "            \"Imagenes\": imagenes\n",
        "        }\n",
        "\n",
        "        print(\"Datos codificados en Huffman:\")\n",
        "        print(datos_transmitidos)\n",
        "\n",
        "    elif opcion == \"2\":\n",
        "        # CODIFICACION HUFFMAN\n",
        "        cadena_objeto_codificada, codigos_objeto = codificacion_huffman(objeto_detectado)\n",
        "        cadena_ubicacion_codificada, codigos_ubicacion = codificacion_huffman(str(ubicacion))\n",
        "        df_codigos_objeto = pd.DataFrame(list(codigos_objeto.items()), columns=['Simbolo', 'Código'])\n",
        "        df_codigos_ubicacion = pd.DataFrame(list(codigos_ubicacion.items()), columns=['Simbolo', 'Código'])\n",
        "\n",
        "        print(\"Handshake de objeto en Huffman:\")\n",
        "        print(df_codigos_objeto)\n",
        "        print(\"\\nHandshake de ubicación en Huffman:\")\n",
        "        print(df_codigos_ubicacion)\n",
        "      # los datos codificados con Huffman\n",
        "\n",
        "        datos_transmitidos = {\n",
        "            \"Se detectó\": cadena_objeto_codificada,\n",
        "            \"Ubicación\": cadena_ubicacion_codificada,\n",
        "            \"Imagenes\": imagenes\n",
        "        }\n",
        "\n",
        "        print(\"Datos codificados en Huffman:\")\n",
        "        print(datos_transmitidos)\n",
        "\n",
        "    elif opcion == \"3\":\n",
        "\n",
        "      # CODIFICACIÓN SHANNON FANO\n",
        "      cadena_objeto_codificada, codigos_objeto = codificacion_shannon_fano(objeto_detectado)\n",
        "      cadena_ubicacion_codificada, codigos_ubicacion = codificacion_shannon_fano(str(ubicacion))\n",
        "      df_codigos_objeto = pd.DataFrame(list(codigos_objeto.items()), columns=['Simbolo', 'Código'])\n",
        "      df_codigos_ubicacion = pd.DataFrame(list(codigos_ubicacion.items()), columns=['Simbolo', 'Código'])\n",
        "      print(\"Handshake de objeto en Shannon-Fano:\")\n",
        "      print(df_codigos_objeto)\n",
        "      print(\"\\nHandshake de ubicación en Shannon-Fano\")\n",
        "      print(df_codigos_ubicacion)\n",
        "\n",
        "      datos_transmitidos = {\n",
        "          \"Se detectó\": cadena_objeto_codificada,\n",
        "          \"Ubicación\": cadena_ubicacion_codificada,\n",
        "          \"Imagenes\": imagenes\n",
        "      }\n",
        "      print(\"Datos codificados en Shannon-Fano:\")\n",
        "      print(datos_transmitidos)\n",
        "\n",
        "    elif opcion == \"4\":\n",
        "      # CODIFICACIÓN GRAY\n",
        "      cadena_objeto_codificada, codigos_objeto = codificacion_gray(objeto_detectado)\n",
        "      cadena_ubicacion_codificada, codigos_ubicacion = codificacion_gray(str(ubicacion))\n",
        "      df_codigos_objeto = pd.DataFrame(list(codigos_objeto.items()), columns=['Simbolo', 'Código'])\n",
        "      df_codigos_ubicacion = pd.DataFrame(list(codigos_ubicacion.items()), columns=['Simbolo', 'Código'])\n",
        "      print(\"Handshake de objeto en Gray:\")\n",
        "      print(df_codigos_objeto)\n",
        "      print(\"\\nHandshake de ubicación en Gray\")\n",
        "      print(df_codigos_ubicacion)\n",
        "\n",
        "      datos_transmitidos = {\n",
        "          \"Se detectó\": cadena_objeto_codificada,\n",
        "          \"Ubicación\": cadena_ubicacion_codificada,\n",
        "          \"Imagenes\": imagenes\n",
        "      }\n",
        "      print(\"Datos codificados en Gray:\")\n",
        "      print(datos_transmitidos)\n",
        "\n",
        "    elif opcion == \"5\":\n",
        "      # CODIFICACIÓN TUNSTALL\n",
        "      cadena_objeto_codificada, codigos_objeto = codificacion_tunstall(objeto_detectado)\n",
        "      cadena_ubicacion_codificada, codigos_ubicacion = codificacion_tunstall(str(ubicacion))\n",
        "      df_codigos_objeto = pd.DataFrame(list(codigos_objeto.items()), columns=['Simbolo', 'Código'])\n",
        "      df_codigos_ubicacion = pd.DataFrame(list(codigos_ubicacion.items()), columns=['Simbolo', 'Código'])\n",
        "      print(\"Handshake de objeto en Tunstall:\")\n",
        "      print(df_codigos_objeto)\n",
        "      print(\"\\nHandsdhake de ubicación en Tunstall\")\n",
        "      print(df_codigos_ubicacion)\n",
        "\n",
        "      datos_transmitidos = {\n",
        "          \"Se detectó\": cadena_objeto_codificada,\n",
        "          \"Ubicación\": cadena_ubicacion_codificada,\n",
        "          \"Imagenes\": imagenes\n",
        "      }\n",
        "      print(\"Datos codificados en Tunstall:\")\n",
        "      print(datos_transmitidos)\n",
        "\n",
        "    else:\n",
        "        print(\"Opción no válida. Debe ingresar 1,  2, 3, 4 o 5.\")\n",
        "\n",
        "    return datos_transmitidos, codigos_objeto, codigos_ubicacion"
      ],
      "metadata": {
        "id": "Rf3E6BHLuIz5"
      },
      "execution_count": 10,
      "outputs": []
    },
    {
      "cell_type": "markdown",
      "source": [
        "###Canal"
      ],
      "metadata": {
        "id": "VrroMaYGCR_o"
      }
    },
    {
      "cell_type": "code",
      "source": [
        "# Este es el medio por el que viajaran los datos transmitidos\n",
        "# esta función simula el canal, en este caso es por medio de fibra óptica\n",
        "def fibra_optica(datos_transmitidos):\n",
        "\n",
        "    \"\"\" DETALLES DE LA FIBRA ÓPTICA \"\"\"\n",
        "    # longitud de la fibra en km\n",
        "    longitud_km = 15\n",
        "    # velocidad de la luz en ms\n",
        "    velocidad_ms = 7000\n",
        "    # longitud de la fibra a metros\n",
        "    longitud_m = longitud_km * 1000\n",
        "    # tiempo de propagación en segundos\n",
        "    tiempo = longitud_m / velocidad_ms\n",
        "\n",
        "    \"\"\" CODIFICACIÓN ADAPTATIVA\"\"\"\n",
        "    \"\"\" PAQUETES\"\"\"\n",
        "    objeto_codificado = datos_transmitidos[\"Se detectó\"]\n",
        "    ubicacion_codificada = datos_transmitidos[\"Ubicación\"]\n",
        "    imagenes_codificada = datos_transmitidos[\"Imagenes\"]\n",
        "    datos_canal = datos_transmitidos.copy()\n",
        "\n",
        "    # divido la cadena del objeto en 4 paquetes\n",
        "    paquete1_objeto = objeto_codificado[:len(objeto_codificado) // 4]\n",
        "    paquete2_objeto = objeto_codificado[len(objeto_codificado) // 4: 2 * (len(objeto_codificado) // 4)]\n",
        "    paquete3_objeto = objeto_codificado[2 * (len(objeto_codificado) // 4): 3 * (len(objeto_codificado) // 4)]\n",
        "    paquete4_objeto = objeto_codificado[3 * (len(objeto_codificado) // 4):]\n",
        "\n",
        "    # divido la cadena de ubicación en 4 paquetes\n",
        "    paquete1_ubicacion = ubicacion_codificada[:len(ubicacion_codificada) // 4]\n",
        "    paquete2_ubicacion = ubicacion_codificada[len(ubicacion_codificada) // 4: 2 * (len(ubicacion_codificada) // 4)]\n",
        "    paquete3_ubicacion = ubicacion_codificada[2 * (len(ubicacion_codificada) // 4): 3 * (len(ubicacion_codificada) // 4)]\n",
        "    paquete4_ubicacion = ubicacion_codificada[3 * (len(ubicacion_codificada) // 4):]\n",
        "\n",
        "    # visualizo los paquetes del objeto\n",
        "    print(\"Paquetes del objeto:\")\n",
        "    print(\"paquete1_objeto:\", paquete1_objeto)\n",
        "    print(\"paquete2_objeto:\", paquete2_objeto)\n",
        "    print(\"paquete3_objeto:\", paquete3_objeto)\n",
        "    print(\"paquete4_objeto:\", paquete4_objeto)\n",
        "\n",
        "    # visualizo los paquetes de ubicación\n",
        "    print(\"Paquetes de ubicación:\")\n",
        "    print(\"paquete1_ubicacion:\", paquete1_ubicacion)\n",
        "    print(\"paquete2_ubicacion:\", paquete2_ubicacion)\n",
        "    print(\"paquete3_ubicacion:\", paquete3_ubicacion)\n",
        "    print(\"paquete4_ubicacion:\", paquete4_ubicacion)\n",
        "\n",
        "    \"\"\"CANALES\"\"\"\n",
        "\n",
        "    canal1 = []  # Canal 1\n",
        "    canal2 = []  # Canal 2\n",
        "    canal3 = []  # Canal 3\n",
        "    canal4 = []  # Canal 4\n",
        "    canal5 = []  # Canal 5\n",
        "\n",
        "    # lista de canales\n",
        "    canales = [canal1, canal2, canal3, canal4, canal5]\n",
        "\n",
        "    # lista de paquetes\n",
        "    paquetes = [paquete1_objeto, paquete2_objeto, paquete3_objeto, paquete4_objeto, paquete1_ubicacion, paquete2_ubicacion, paquete3_ubicacion, paquete4_ubicacion]\n",
        "\n",
        "    paquetes_recibidos_objeto = []  # para paquetes completos de objetos\n",
        "    paquetes_recibidos_ubicacion = []  # para paquetes completos de ubicación\n",
        "\n",
        "    # INICIO LA CODIFICACIÓN ADAPTATIVA DE MIS CANALES\n",
        "\n",
        "    # 1.- Mientras haya paquetes en la lista\n",
        "    while paquetes:\n",
        "        # 2.- Se elige un canal aleatoriamente de la lista de canales\n",
        "        canal_elegido = random.choice(canales)\n",
        "        # 3.- Se genera un número aleatorio entre 1 y 5 para determinar cuántos paquetes se seleccionarán\n",
        "        num_elementos_aleatorios = random.randint(1, min(len(paquetes), 5))\n",
        "        # 4.- Se seleccionan elementos aleatorios de la lista 'paquetes' en la cantidad determinada anteriormente\n",
        "        elementos_seleccionados = random.sample(paquetes, num_elementos_aleatorios)\n",
        "        # 5.- Al canal elegido se van añadiendo los elementos seleccionados\n",
        "        canal_elegido.extend(elementos_seleccionados)\n",
        "        # 6.- Guardo en una lista de elementos no seleccionados que quedan en 'paquetes'\n",
        "        elementos_no_seleccionados = [elemento for elemento in paquetes if elemento not in elementos_seleccionados]\n",
        "        # 7.- Actualizo la lista 'paquetes' con los elementos no seleccionados\n",
        "        paquetes = elementos_no_seleccionados\n",
        "\n",
        "        # 8.- Añado paquetes completos a las variables correspondientes\n",
        "        for elemento in elementos_seleccionados:\n",
        "            if elemento in [paquete1_objeto, paquete2_objeto, paquete3_objeto, paquete4_objeto]:\n",
        "                paquetes_recibidos_objeto.append(elemento)\n",
        "            else:\n",
        "                paquetes_recibidos_ubicacion.append(elemento)\n",
        "\n",
        "        # Visualizo el canal y los paquetes que ingresaron a ese canal\n",
        "        print(\"Canal:\", canales.index(canal_elegido)+1)\n",
        "\n",
        "        print(\"Paquetes recibidos:\")\n",
        "        for elemento in canal_elegido:\n",
        "            print(elemento)\n",
        "\n",
        "        if elementos_no_seleccionados: #Imprime \"Paquete no recibidos:\" solo cuando hay paquetes no seleccionados\n",
        "          print(\"Paquete no recibidos:\")\n",
        "          for elemento in elementos_no_seleccionados:\n",
        "            print(elemento)\n",
        "\n",
        "        print()\n",
        "\n",
        "    # imprimo para asegurar que todos los paquetes fueron recibidos\n",
        "    print(\"paquetes recibidos objeto: \", paquetes_recibidos_objeto)\n",
        "    print(\"paquetes recibidos ubicacion: \", paquetes_recibidos_ubicacion)\n",
        "\n",
        "    # ordenos por orden mis paquetes para recuperar el mensaje original\n",
        "    paquetes_recibidos_objeto.sort(key=lambda x: [paquete1_objeto, paquete2_objeto, paquete3_objeto, paquete4_objeto].index(x))\n",
        "    paquetes_recibidos_ubicacion.sort(key=lambda x: [paquete1_ubicacion, paquete2_ubicacion, paquete3_ubicacion, paquete4_ubicacion].index(x))\n",
        "\n",
        "    # uno los paquetes y actualizo el diccionario datos_canal\n",
        "    objeto_codificado_nuevo = ''.join(paquetes_recibidos_objeto)\n",
        "    ubicacion_codificada_nueva = ''.join(paquetes_recibidos_ubicacion)\n",
        "    datos_canal[\"Se detectó\"] = objeto_codificado_nuevo\n",
        "    datos_canal[\"Ubicación\"] = ubicacion_codificada_nueva\n",
        "\n",
        "    print(\"Paquetes recibidos objeto ordenados:\", paquetes_recibidos_objeto)\n",
        "    print(\"Paquetes recibidos ubicación ordenados:\", paquetes_recibidos_ubicacion)\n",
        "\n",
        "    return datos_canal, tiempo"
      ],
      "metadata": {
        "id": "ewZHYq_tvUfu"
      },
      "execution_count": 11,
      "outputs": []
    },
    {
      "cell_type": "markdown",
      "source": [
        "#### Decodificación Binario"
      ],
      "metadata": {
        "id": "WnElj58zcNiU"
      }
    },
    {
      "cell_type": "code",
      "source": [
        "def decodificacion_binaria(cadena_codificada_binario, codigos_binario):\n",
        "    cadena_binaria_decodificada = \"\"\n",
        "    codigo_actual = \"\"\n",
        "\n",
        "    for bit in cadena_codificada_binario:\n",
        "        codigo_actual += bit\n",
        "        for simbolo, codigo in codigos_binario.items():\n",
        "            if codigo_actual == codigo:\n",
        "                cadena_binaria_decodificada += simbolo\n",
        "                codigo_actual = \"\"\n",
        "                break\n",
        "\n",
        "    return cadena_binaria_decodificada"
      ],
      "metadata": {
        "id": "KDvqejymcRjb"
      },
      "execution_count": 12,
      "outputs": []
    },
    {
      "cell_type": "markdown",
      "source": [
        "#### Decodificación Huffman"
      ],
      "metadata": {
        "id": "rFXSrOdH7cxk"
      }
    },
    {
      "cell_type": "code",
      "source": [
        "def decodificacion_huffman(cadena_codificada_huffman, codigos_huffman):\n",
        "    cadena_decodificada = \"\"\n",
        "    codigo_actual = \"\"\n",
        "    for bit in cadena_codificada_huffman:\n",
        "        codigo_actual += bit\n",
        "        for simbolo, codigo in codigos_huffman.items():\n",
        "            if codigo == codigo_actual:\n",
        "                cadena_decodificada += simbolo\n",
        "                codigo_actual = \"\"\n",
        "                break\n",
        "    return cadena_decodificada"
      ],
      "metadata": {
        "id": "NtzIXgiYRIH6"
      },
      "execution_count": 13,
      "outputs": []
    },
    {
      "cell_type": "markdown",
      "source": [
        "#### Decodificación Shannon-Fano"
      ],
      "metadata": {
        "id": "o7kDmdA-7pqN"
      }
    },
    {
      "cell_type": "code",
      "source": [
        "def decodificacion_shannon_fano(cadena_codificada_sf, codigos_sh):\n",
        "    cadena_decodificada = \"\"\n",
        "    codigo_actual = \"\"\n",
        "\n",
        "    for bit in cadena_codificada_sf:\n",
        "        codigo_actual += bit\n",
        "        for simbolo, codigo in codigos_sh.items():\n",
        "            if codigo_actual == codigo:\n",
        "                cadena_decodificada += simbolo\n",
        "                codigo_actual = \"\"\n",
        "                break\n",
        "\n",
        "    return cadena_decodificada"
      ],
      "metadata": {
        "id": "6UqJWCTH7ujh"
      },
      "execution_count": 14,
      "outputs": []
    },
    {
      "cell_type": "markdown",
      "source": [
        "#### Decodificación Gray"
      ],
      "metadata": {
        "id": "tAxSvSv5NV-y"
      }
    },
    {
      "cell_type": "code",
      "source": [
        "def decodificacion_gray(cadena_codificada_gray, codigos_gray):\n",
        "    def reverse_gray_code(gray_code):\n",
        "        num = gray_code\n",
        "        while gray_code >= 1:\n",
        "            gray_code >>= 1\n",
        "            num ^= gray_code\n",
        "        return num\n",
        "\n",
        "    # invierto el diccionario de codificación Gray para buscar códigos en lugar de símbolos\n",
        "    codigos_invertidos = {codigo: simbolo for simbolo, codigo in codigos_gray.items()}\n",
        "\n",
        "    # decodifico la cadena codificada en Gray\n",
        "    cadena_gray_decodificada = \"\"\n",
        "    codigo_actual = \"\"\n",
        "\n",
        "    for bit in cadena_codificada_gray:\n",
        "        codigo_actual += bit\n",
        "        if codigo_actual in codigos_invertidos:\n",
        "            simbolo = codigos_invertidos[codigo_actual]\n",
        "            cadena_gray_decodificada += simbolo\n",
        "            codigo_actual = \"\"\n",
        "\n",
        "    return cadena_gray_decodificada"
      ],
      "metadata": {
        "id": "wkDq49gFNZ0M"
      },
      "execution_count": 15,
      "outputs": []
    },
    {
      "cell_type": "markdown",
      "source": [
        "#### Decodificación Tunstall"
      ],
      "metadata": {
        "id": "zr0F3uqacdAq"
      }
    },
    {
      "cell_type": "code",
      "source": [
        "def decodificacion_tunstall(cadena_codificada_t, codigos_tunstall):\n",
        "    cadena_tunstall_decodificada = \"\"\n",
        "    codigo_actual = \"\"\n",
        "\n",
        "    for bit in cadena_codificada_t:\n",
        "        codigo_actual += bit\n",
        "        simbolo_encontrado = None\n",
        "\n",
        "        for simbolo, codigo in codigos_tunstall.items():\n",
        "            if codigo_actual.startswith(codigo):\n",
        "                simbolo_encontrado = simbolo\n",
        "                break\n",
        "\n",
        "        if simbolo_encontrado is not None:\n",
        "            cadena_tunstall_decodificada += simbolo_encontrado\n",
        "            codigo_actual = codigo_actual[len(codigo):]\n",
        "\n",
        "    return cadena_tunstall_decodificada"
      ],
      "metadata": {
        "id": "Q_x5WXbfchOI"
      },
      "execution_count": 16,
      "outputs": []
    },
    {
      "cell_type": "markdown",
      "source": [
        "### Receptor"
      ],
      "metadata": {
        "id": "MDX_vT9ZdIVv"
      }
    },
    {
      "cell_type": "code",
      "source": [
        "def receptor(datos_con_ruido, codigos_objeto, codigos_ubicacion):\n",
        "    print(\"Dependiendo del método de codificación que elegiste,\")\n",
        "    print(\"elige el método de decodificación:\")\n",
        "    print(\"1. Binario\")\n",
        "    print(\"2. Huffman\")\n",
        "    print(\"3. Shannon-Fano\")\n",
        "    print(\"4. Gray\")\n",
        "    print(\"5. Tunstall\")\n",
        "    opcion = input(\"Ingrese el número correspondiente a la opción deseada: \")\n",
        "    # PARE EL RUIDO ASI QUE NO ESTAN SALIENDO CON RUIDO\n",
        "\n",
        "    objeto_codificado = datos_con_ruido[\"Se detectó\"]\n",
        "    ubicacion_codificada= datos_con_ruido[\"Ubicación\"]\n",
        "    imagenes = datos_con_ruido[\"Imagenes\"]\n",
        "\n",
        "    if opcion == \"1\":\n",
        "        # Decodificar binario\n",
        "        objeto_decodificado = decodificacion_binaria(objeto_codificado, codigos_objeto)\n",
        "        ubicacion_decodificada = decodificacion_binaria(ubicacion_codificada, codigos_ubicacion)\n",
        "\n",
        "    elif opcion == \"2\":\n",
        "        # Decodificar Huffman\n",
        "        objeto_decodificado = decodificacion_huffman(objeto_codificado, codigos_objeto)\n",
        "        cadena_ubicacion = decodificacion_huffman(ubicacion_codificada, codigos_ubicacion)\n",
        "        ubicacion_decodificada = tuple(map(float, cadena_ubicacion.strip(\"()\").split(\", \")))\n",
        "\n",
        "    elif opcion == \"3\":\n",
        "        # Decodificar Shannon-Fano\n",
        "        objeto_decodificado = decodificacion_shannon_fano(objeto_codificado, codigos_objeto)\n",
        "        ubicacion_decodificada = decodificacion_shannon_fano(ubicacion_codificada, codigos_ubicacion)\n",
        "    elif opcion == \"4\":\n",
        "      # Decodificar Gray\n",
        "        objeto_decodificado = decodificacion_gray(objeto_codificado, codigos_objeto)\n",
        "        ubicacion_decodificada = decodificacion_gray(ubicacion_codificada, codigos_ubicacion)\n",
        "    elif opcion == \"5\":\n",
        "        objeto_decodificado = decodificacion_tunstall(objeto_codificado, codigos_objeto)\n",
        "        ubicacion_decodificada = decodificacion_tunstall(ubicacion_codificada, codigos_ubicacion)\n",
        "    else:\n",
        "        print(\"Opción no válida. Debe ingresar 1, 2, 3, 4 o 5.\")\n",
        "        return\n",
        "\n",
        "    datos_decodificados = {\n",
        "        \"Se detectó\": objeto_decodificado,\n",
        "        \"Ubicación\": ubicacion_decodificada,\n",
        "        \"Imagenes\": imagenes\n",
        "    }\n",
        "\n",
        "    return datos_decodificados"
      ],
      "metadata": {
        "id": "5hlf0pWldNOH"
      },
      "execution_count": 17,
      "outputs": []
    },
    {
      "cell_type": "markdown",
      "source": [
        "#### Simulamos que la información ha llegado a la Estación Espacial"
      ],
      "metadata": {
        "id": "MM32kZ4GYAQF"
      }
    },
    {
      "cell_type": "markdown",
      "source": [
        "### Destino de Información"
      ],
      "metadata": {
        "id": "527ED03QX6Tx"
      }
    },
    {
      "cell_type": "markdown",
      "source": [
        "Recopilo los datos"
      ],
      "metadata": {
        "id": "Yzxdd11h4Rgf"
      }
    },
    {
      "cell_type": "code",
      "source": [
        "info_original = recopilar_datos()"
      ],
      "metadata": {
        "id": "vUaIjDgXm194"
      },
      "execution_count": 18,
      "outputs": []
    },
    {
      "cell_type": "markdown",
      "source": [
        "Visualización del Handshake y la cadena codifcada en la codificaión que eligió el usuario"
      ],
      "metadata": {
        "id": "40v4qpor4UrV"
      }
    },
    {
      "cell_type": "code",
      "source": [
        "# Guardo las funciones en variables\n",
        "info_transmitida, codigos_objeto, codigos_ubicacion = transmisor_de_la_nave_espacial(info_original)"
      ],
      "metadata": {
        "colab": {
          "base_uri": "https://localhost:8080/"
        },
        "id": "MhdrWcsHnoH_",
        "outputId": "49998b62-219b-416d-a805-90408f66bb0f"
      },
      "execution_count": 19,
      "outputs": [
        {
          "output_type": "stream",
          "name": "stdout",
          "text": [
            "Elige el tipo de codificación:\n",
            "1. Binario\n",
            "2. Huffman\n",
            "3. Shannon-Fano\n",
            "4. Gray\n",
            "5. Tunstall\n",
            "Ingrese el número correspondiente a la opción deseada: 4\n",
            "Handshake de objeto en Gray:\n",
            "   Simbolo    Código\n",
            "0        r  01001011\n",
            "1        o  01011000\n",
            "2        c  01010010\n",
            "3        a  01010001\n",
            "4        ,  00111010\n",
            "5           00110000\n",
            "6        i  01011101\n",
            "7        s  01001010\n",
            "8        t  01001110\n",
            "9        l  01011010\n",
            "10       g  01010100\n",
            "11       u  01001111\n",
            "12       &  00110101\n",
            "13       h  01011100\n",
            "14       e  01010111\n",
            "\n",
            "Handshake de ubicación en Gray\n",
            "   Simbolo    Código\n",
            "0        (  00111100\n",
            "1        -  00111011\n",
            "2        8  00100100\n",
            "3        7  00101100\n",
            "4        .  00111001\n",
            "5        6  00101101\n",
            "6        5  00101111\n",
            "7        ,  00111010\n",
            "8           00110000\n",
            "9        2  00101011\n",
            "10       1  00101001\n",
            "11       )  00111101\n",
            "Datos codificados en Gray:\n",
            "{'Se detectó': '010010110101100001010010010100010011101000110000010100100100101101011101010010100100111001010001010110100011101000110000010100010101010001001111010100010011000000110101001100000101110001011101010101110101101001011000', 'Ubicación': '00111100001110110010010000101100001110010010110100101111001110100011000000101100001011010010101100111001001011110010110100111010001100000011101100101111001010010010100100111001001011110010111100111101', 'Imagenes': ['imagen1.jpg', 'imagen2.jpg']}\n"
          ]
        }
      ]
    },
    {
      "cell_type": "markdown",
      "source": [
        "Visualización del la codificación adapatativa"
      ],
      "metadata": {
        "id": "29d1s4CG4lbM"
      }
    },
    {
      "cell_type": "code",
      "source": [
        "datos_canal, tiempo_propagacions = fibra_optica(info_transmitida)"
      ],
      "metadata": {
        "colab": {
          "base_uri": "https://localhost:8080/"
        },
        "id": "bpdgREuO3Uf8",
        "outputId": "c011ef7f-4f8f-4acf-e603-8add4025b40d"
      },
      "execution_count": 20,
      "outputs": [
        {
          "output_type": "stream",
          "name": "stdout",
          "text": [
            "Paquetes del objeto:\n",
            "paquete1_objeto: 010010110101100001010010010100010011101000110000010100\n",
            "paquete2_objeto: 100100101101011101010010100100111001010001010110100011\n",
            "paquete3_objeto: 101000110000010100010101010001001111010100010011000000\n",
            "paquete4_objeto: 110101001100000101110001011101010101110101101001011000\n",
            "Paquetes de ubicación:\n",
            "paquete1_ubicacion: 00111100001110110010010000101100001110010010110100\n",
            "paquete2_ubicacion: 10111100111010001100000010110000101101001010110011\n",
            "paquete3_ubicacion: 10010010111100101101001110100011000000111011001011\n",
            "paquete4_ubicacion: 11001010010010100100111001001011110010111100111101\n",
            "Canal: 2\n",
            "Paquetes recibidos:\n",
            "11001010010010100100111001001011110010111100111101\n",
            "110101001100000101110001011101010101110101101001011000\n",
            "101000110000010100010101010001001111010100010011000000\n",
            "010010110101100001010010010100010011101000110000010100\n",
            "00111100001110110010010000101100001110010010110100\n",
            "Paquete no recibidos:\n",
            "100100101101011101010010100100111001010001010110100011\n",
            "10111100111010001100000010110000101101001010110011\n",
            "10010010111100101101001110100011000000111011001011\n",
            "\n",
            "Canal: 5\n",
            "Paquetes recibidos:\n",
            "100100101101011101010010100100111001010001010110100011\n",
            "10010010111100101101001110100011000000111011001011\n",
            "Paquete no recibidos:\n",
            "10111100111010001100000010110000101101001010110011\n",
            "\n",
            "Canal: 1\n",
            "Paquetes recibidos:\n",
            "10111100111010001100000010110000101101001010110011\n",
            "\n",
            "paquetes recibidos objeto:  ['110101001100000101110001011101010101110101101001011000', '101000110000010100010101010001001111010100010011000000', '010010110101100001010010010100010011101000110000010100', '100100101101011101010010100100111001010001010110100011']\n",
            "paquetes recibidos ubicacion:  ['11001010010010100100111001001011110010111100111101', '00111100001110110010010000101100001110010010110100', '10010010111100101101001110100011000000111011001011', '10111100111010001100000010110000101101001010110011']\n",
            "Paquetes recibidos objeto ordenados: ['010010110101100001010010010100010011101000110000010100', '100100101101011101010010100100111001010001010110100011', '101000110000010100010101010001001111010100010011000000', '110101001100000101110001011101010101110101101001011000']\n",
            "Paquetes recibidos ubicación ordenados: ['00111100001110110010010000101100001110010010110100', '10111100111010001100000010110000101101001010110011', '10010010111100101101001110100011000000111011001011', '11001010010010100100111001001011110010111100111101']\n"
          ]
        }
      ]
    },
    {
      "cell_type": "markdown",
      "source": [
        "Menu de decodificación"
      ],
      "metadata": {
        "id": "iEUT-GPX5N--"
      }
    },
    {
      "cell_type": "code",
      "source": [
        "info_receptada = receptor(datos_canal, codigos_objeto, codigos_ubicacion)"
      ],
      "metadata": {
        "colab": {
          "base_uri": "https://localhost:8080/"
        },
        "id": "lwITWhXX3nXP",
        "outputId": "da1e2176-76f7-49e0-d766-3c6699f61465"
      },
      "execution_count": 21,
      "outputs": [
        {
          "name": "stdout",
          "output_type": "stream",
          "text": [
            "Dependiendo del método de codificación que elegiste,\n",
            "elige el método de decodificación:\n",
            "1. Binario\n",
            "2. Huffman\n",
            "3. Shannon-Fano\n",
            "4. Gray\n",
            "5. Tunstall\n",
            "Ingrese el número correspondiente a la opción deseada: 4\n"
          ]
        }
      ]
    },
    {
      "cell_type": "code",
      "source": [
        "# Finalmente la información ha llegado a los científicos de la Estación Espacial\n",
        "print(\"===== Datos Recibidos en la Estación Espacial =====\")\n",
        "print(\"===== Perseverance 2.1 ha capturado los siguientes datos ===== \\n\")\n",
        "print(info_receptada)"
      ],
      "metadata": {
        "colab": {
          "base_uri": "https://localhost:8080/"
        },
        "id": "_L08RTTW3aar",
        "outputId": "489e5563-bdd2-4514-c66b-15ea0a1369a2"
      },
      "execution_count": 22,
      "outputs": [
        {
          "output_type": "stream",
          "name": "stdout",
          "text": [
            "===== Datos Recibidos en la Estación Espacial =====\n",
            "===== Perseverance 2.1 ha capturado los siguientes datos ===== \n",
            "\n",
            "{'Se detectó': 'roca, cristal, agua & hielo', 'Ubicación': '(-87.65, 762.56, -511.55)', 'Imagenes': ['imagen1.jpg', 'imagen2.jpg']}\n"
          ]
        }
      ]
    },
    {
      "cell_type": "markdown",
      "source": [
        "### Comparación de la información"
      ],
      "metadata": {
        "id": "XgLUSPelOGgI"
      }
    },
    {
      "cell_type": "code",
      "source": [
        "print(\"Datos originales:\")\n",
        "print(info_original)\n",
        "print()\n",
        "\n",
        "print(\"Datos transmitidos:\")\n",
        "print(info_transmitida)\n",
        "print()\n",
        "\n",
        "print(\"Datos con ruido:\")\n",
        "print(datos_canal)\n",
        "print()\n",
        "\n",
        "print(\"Datos receptados :\")\n",
        "print(info_receptada)"
      ],
      "metadata": {
        "colab": {
          "base_uri": "https://localhost:8080/"
        },
        "id": "PNaDDVYqqXsF",
        "outputId": "e20333c9-60d5-45e9-bcc0-98c59628e10b"
      },
      "execution_count": 23,
      "outputs": [
        {
          "output_type": "stream",
          "name": "stdout",
          "text": [
            "Datos originales:\n",
            "{'Se detectó': 'roca, cristal, agua & hielo', 'Ubicación': (-87.65, 762.56, -511.55), 'Imagenes': ['imagen1.jpg', 'imagen2.jpg']}\n",
            "\n",
            "Datos transmitidos:\n",
            "{'Se detectó': '010010110101100001010010010100010011101000110000010100100100101101011101010010100100111001010001010110100011101000110000010100010101010001001111010100010011000000110101001100000101110001011101010101110101101001011000', 'Ubicación': '00111100001110110010010000101100001110010010110100101111001110100011000000101100001011010010101100111001001011110010110100111010001100000011101100101111001010010010100100111001001011110010111100111101', 'Imagenes': ['imagen1.jpg', 'imagen2.jpg']}\n",
            "\n",
            "Datos con ruido:\n",
            "{'Se detectó': '010010110101100001010010010100010011101000110000010100100100101101011101010010100100111001010001010110100011101000110000010100010101010001001111010100010011000000110101001100000101110001011101010101110101101001011000', 'Ubicación': '00111100001110110010010000101100001110010010110100101111001110100011000000101100001011010010101100111001001011110010110100111010001100000011101100101111001010010010100100111001001011110010111100111101', 'Imagenes': ['imagen1.jpg', 'imagen2.jpg']}\n",
            "\n",
            "Datos receptados :\n",
            "{'Se detectó': 'roca, cristal, agua & hielo', 'Ubicación': '(-87.65, 762.56, -511.55)', 'Imagenes': ['imagen1.jpg', 'imagen2.jpg']}\n"
          ]
        }
      ]
    }
  ]
}